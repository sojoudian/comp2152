{
  "cells": [
    {
      "cell_type": "markdown",
      "metadata": {
        "id": "3Fd6PTTs1N-h"
      },
      "source": [
        "Create the following classes:\n",
        "\n",
        "\n",
        "*   'Vehicle' class is the base class that includes common properties and methods for all vehicles, such as make, model, year, and start_engine().\n",
        "*   The 'Car' and 'Motorcycle' classes are subclasses that inherit from the Vehicle'' class and add their own unique properties and methods, such as num_doors and num_wheels. \n",
        "*   Each subclass also overrides the start() and stop() method to provide its own implementation.\n",
        "\n"
      ]
    },
    {
      "cell_type": "code",
      "execution_count": null,
      "metadata": {},
      "outputs": [],
      "source": [
        "#Happy Nowruz\n",
        "#https://en.wikipedia.org/wiki/Nowruz\n",
        "# add your student id and name here"
      ]
    },
    {
      "cell_type": "markdown",
      "metadata": {
        "id": "kcQcCW_q4he4"
      },
      "source": [
        "# Vehicle Class"
      ]
    },
    {
      "cell_type": "code",
      "execution_count": 354,
      "metadata": {
        "id": "fKAocU0p11W2"
      },
      "outputs": [],
      "source": [
        "# define Vehicle class with 3 private properties: make, model, year, is_started \n",
        "# set the default value = 'False' for 'is_started' "
      ]
    },
    {
      "cell_type": "code",
      "execution_count": 355,
      "metadata": {
        "id": "TDSIibwJ1NXU"
      },
      "outputs": [],
      "source": []
    },
    {
      "cell_type": "code",
      "execution_count": 356,
      "metadata": {
        "id": "by_LD8ht1_7J"
      },
      "outputs": [],
      "source": [
        "# Add methods to get and set the value of the 'make' property.\n",
        "# Use appropriate decorators for get and set method: @property and @accessor_property_name.setter"
      ]
    },
    {
      "cell_type": "code",
      "execution_count": 357,
      "metadata": {
        "id": "3ClLjotu1Te7"
      },
      "outputs": [],
      "source": []
    },
    {
      "cell_type": "code",
      "execution_count": 358,
      "metadata": {
        "id": "kECYmCPI2j9H"
      },
      "outputs": [],
      "source": [
        "# Similarly, add get/set methods for 'model' and 'year' property.\n",
        "# Use appropriate decorators."
      ]
    },
    {
      "cell_type": "code",
      "execution_count": 359,
      "metadata": {
        "id": "GBjoyhBF2dEG"
      },
      "outputs": [],
      "source": []
    },
    {
      "cell_type": "code",
      "execution_count": null,
      "metadata": {},
      "outputs": [],
      "source": [
        "# Add a sub class Car that inherits from Vehicle class."
      ]
    }
  ],
  "metadata": {
    "colab": {
      "provenance": []
    },
    "kernelspec": {
      "display_name": "Python 3",
      "name": "python3"
    },
    "language_info": {
      "name": "python"
    }
  },
  "nbformat": 4,
  "nbformat_minor": 0
}
