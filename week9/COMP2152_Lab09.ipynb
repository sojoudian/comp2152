{
  "cells": [
    {
      "cell_type": "markdown",
      "metadata": {
        "id": "0iPDBL-PrCec"
      },
      "source": [
        "# Review\n",
        "In this exercise we will review the following topics from the first half of the semester:\n",
        "1.   Python data types and operations\n",
        "2.   List & Dictionary\n",
        "3.   For loop\n",
        "4.   If-else statement\n",
        "5.   Python function\n",
        "\n"
      ]
    },
    {
      "cell_type": "code",
      "execution_count": null,
      "metadata": {
        "id": "h8PSs9qKkmuy"
      },
      "outputs": [],
      "source": [
        "#Woman, Life, Freedom, https://en.wikipedia.org/wiki/Woman,_Life,_Freedom\n",
        "#Add your name and student ID here:\n",
        "#Maziar Sojoudian 10112131"
      ]
    },
    {
      "cell_type": "code",
      "execution_count": null,
      "metadata": {
        "id": "F2SKTR2bqdlP"
      },
      "outputs": [],
      "source": [
        "# Functions declaration starts here ========>"
      ]
    },
    {
      "cell_type": "code",
      "execution_count": null,
      "metadata": {
        "id": "LLw0yoD0r267"
      },
      "outputs": [],
      "source": [
        "#Question 1: Simple Voting System\n",
        "#Task: Create a Python program to simulate a simple voting system for a two-candidate election.\n",
        "#The program should ask the user to vote for one of two candidates\n",
        "#(e.g., \"Candidate A\" or \"Candidate B\") and keep track of the votes each candidate receives.\n",
        "#After a predetermined number of votes have been cast, the program should announce the winner based on who received more votes.\n",
        "#\n",
        "#Requirements:\n",
        "#\n",
        "#Use a loop to collect votes until the vote count reaches a specified limit.\n",
        "#Use if statements to validate input and count votes for each candidate.\n",
        "#Handle cases where a user might enter invalid input."
      ]
    },
    {
      "cell_type": "code",
      "execution_count": null,
      "metadata": {
        "id": "rjj6hKlTr234"
      },
      "outputs": [],
      "source": []
    },
    {
      "cell_type": "code",
      "execution_count": null,
      "metadata": {
        "id": "aZXR6Vs4BE7P"
      },
      "outputs": [],
      "source": [
        "#Expected Output:\n",
        "#Vote for Candidate A or Candidate B: A\n",
        "#Vote for Candidate A or Candidate B: B\n",
        "#Vote for Candidate A or Candidate B: A\n",
        "#Vote for Candidate A or Candidate B: C\n",
        "#Invalid vote. Please vote for either Candidate A or Candidate B.\n",
        "#Vote for Candidate A or Candidate B: B\n",
        "#Vote for Candidate A or Candidate B: A\n",
        "#Voting finished. Candidate A wins!\n",
        "\n"
      ]
    },
    {
      "cell_type": "code",
      "execution_count": null,
      "metadata": {
        "id": "eBq7ha72r20z"
      },
      "outputs": [],
      "source": [
        "#Basic File Reader\n",
        "#Task: Write a Python program that asks the user for the name of a file to open and read.\n",
        "#The program should print the contents of the file. If the file does not exist or the input is invalid,\n",
        "#the program should handle these errors gracefully by informing the user and allowing them to try again.\n",
        "\n",
        "#Requirements:\n",
        "\n",
        "#Use exception handling to catch errors related to file opening and invalid file names.\n",
        "#Use a loop to allow the user multiple attempts to enter a valid file name.\n",
        "#Use if statements to check the validity of the input."
      ]
    },
    {
      "cell_type": "code",
      "execution_count": null,
      "metadata": {
        "id": "B1m7IuDoETV3"
      },
      "outputs": [],
      "source": []
    },
    {
      "cell_type": "code",
      "execution_count": null,
      "metadata": {
        "id": "2iDZTySKBwiJ"
      },
      "outputs": [],
      "source": [
        "##Expected Output:\n",
        "#Enter the name of the file to open: nonexistingfile.txt\n",
        "#File not found. Please try again.\n",
        "#Enter the name of the file to open: existingfile.txt\n",
        "#[Contents of existingfile.txt]\n"
      ]
    }
  ],
  "metadata": {
    "colab": {
      "provenance": []
    },
    "kernelspec": {
      "display_name": "Python 3",
      "name": "python3"
    },
    "language_info": {
      "name": "python"
    }
  },
  "nbformat": 4,
  "nbformat_minor": 0
}
