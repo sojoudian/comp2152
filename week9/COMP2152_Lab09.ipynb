{
  "cells": [
    {
      "cell_type": "markdown",
      "metadata": {
        "id": "0iPDBL-PrCec"
      },
      "source": [
        "# Review\n",
        "In this exercise we will review the following topics from the first half of the semester:\n",
        "1.   Python data types and operations\n",
        "2.   List & Dictionary\n",
        "3.   For loop\n",
        "4.   If-else statement\n",
        "5.   Python function\n",
        "\n"
      ]
    },
    {
      "cell_type": "code",
      "execution_count": null,
      "metadata": {
        "id": "h8PSs9qKkmuy"
      },
      "outputs": [],
      "source": [
        "#Woman, Life, Freedom, https://en.wikipedia.org/wiki/Woman,_Life,_Freedom\n",
        "#Add your name and student ID here:\n",
        "#Maziar Sojoudian 10112131"
      ]
    },
    {
      "cell_type": "code",
      "execution_count": null,
      "metadata": {
        "id": "F2SKTR2bqdlP"
      },
      "outputs": [],
      "source": [
        "# Functions declaration starts here ========>"
      ]
    },
    {
      "cell_type": "code",
      "execution_count": null,
      "metadata": {
        "id": "LLw0yoD0r267"
      },
      "outputs": [],
      "source": [
        "#Question 1: Contact Information Lookup\n",
        "#Task: Write a Python program that simulates a simple contact information lookup system.\n",
        "#The program should start by asking the user to enter a name.\n",
        "#It then looks up the name in a predefined dictionary containing names as keys and phone numbers as values.\n",
        "#If the name is found, the program should display the corresponding phone number.\n",
        "#If the name is not found or if the user enters invalid input (anything not a string or empty input),\n",
        "#the program should handle these errors gracefully by informing the user and allowing them to try again.\n",
        "\n",
        "#\n",
        "#Requirements:\n",
        "#\n",
        "# Use a dictionary to store contact names and phone numbers.\n",
        "# Use exception handling to catch and handle cases where the input is not a string.\n",
        "# Use a loop to allow the user multiple attempts to enter a valid name.\n",
        "# Use if statements to check if the name exists in the dictionary"
      ]
    },
    {
      "cell_type": "code",
      "execution_count": null,
      "metadata": {
        "id": "rjj6hKlTr234"
      },
      "outputs": [],
      "source": []
    },
    {
      "cell_type": "code",
      "execution_count": null,
      "metadata": {
        "id": "aZXR6Vs4BE7P"
      },
      "outputs": [],
      "source": [
        "#Expected Output:\n",
        "#Enter the name to look up their phone number: 123\n",
        "# Name should only contain letters. Please try again.\n",
        "# Enter the name to look up their phone number: John\n",
        "# Name not found. Please try again.\n",
        "# Enter the name to look up their phone number: Alice\n",
        "# The phone number of Alice is 123-456-7890"
      ]
    },
    {
      "cell_type": "code",
      "execution_count": null,
      "metadata": {
        "id": "eBq7ha72r20z"
      },
      "outputs": [],
      "source": [
        "#Question 2: Simple Math Quiz\n",
        "#Task: Create a Python program to implement a simple math quiz that asks the user\n",
        "# to solve a basic arithmetic problem (e.g., addition, subtraction).\n",
        "# The program should generate two random numbers\n",
        "# and an operation (addition or subtraction) and then ask the user to solve the problem.\n",
        "# If the user enters the correct answer, the program congratulates them.\n",
        "# If the answer is incorrect or the input is invalid, the program should inform the user and allow them to try again.\n",
        "\n",
        "# Requirements:\n",
        "\n",
        "# Use the random module to generate two random numbers and to choose between addition and subtraction.\n",
        "# Use a loop to allow the user to keep trying until they get the correct answer.\n",
        "# Use exception handling to catch non-numeric inputs.\n",
        "# Use if statements to check if the answer is correct."
      ]
    },
    {
      "cell_type": "code",
      "execution_count": null,
      "metadata": {
        "id": "B1m7IuDoETV3"
      },
      "outputs": [],
      "source": []
    },
    {
      "cell_type": "code",
      "execution_count": null,
      "metadata": {
        "id": "2iDZTySKBwiJ"
      },
      "outputs": [],
      "source": [
        "##Expected Output:\n",
        "# What is 3 + 7? 10\n",
        "# Congratulations! You've got the correct answer."
      ]
    }
  ],
  "metadata": {
    "colab": {
      "provenance": []
    },
    "kernelspec": {
      "display_name": "Python 3",
      "name": "python3"
    },
    "language_info": {
      "name": "python"
    }
  },
  "nbformat": 4,
  "nbformat_minor": 0
}
