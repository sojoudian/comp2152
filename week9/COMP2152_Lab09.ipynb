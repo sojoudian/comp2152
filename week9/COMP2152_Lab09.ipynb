{
  "cells": [
    {
      "cell_type": "markdown",
      "metadata": {
        "id": "0iPDBL-PrCec"
      },
      "source": [
        "# Review\n",
        "In this exercise we will review the following topics from the first half of the semester:\n",
        "1.   Python data types and operations\n",
        "2.   List & Dictionary\n",
        "3.   For loop\n",
        "4.   If-else statement\n",
        "5.   Python function\n",
        "\n"
      ]
    },
    {
      "cell_type": "code",
      "execution_count": null,
      "metadata": {
        "id": "h8PSs9qKkmuy"
      },
      "outputs": [],
      "source": [
        "#Woman, Life, Freedom, https://en.wikipedia.org/wiki/Woman,_Life,_Freedom\n",
        "#Add your name and student ID here:\n",
        "#Maziar Sojoudian 10112131"
      ]
    },
    {
      "cell_type": "code",
      "execution_count": null,
      "metadata": {
        "id": "F2SKTR2bqdlP"
      },
      "outputs": [],
      "source": [
        "# Functions declaration starts here ========>"
      ]
    },
    {
      "cell_type": "code",
      "execution_count": null,
      "metadata": {
        "id": "LLw0yoD0r267"
      },
      "outputs": [],
      "source": [
        "#Question 1: Multiplication Table Generator\n",
        "#Task: Write a program that asks the user for a number and generates a multiplication table for that number up to 10.\n",
        "#The program should validate the input and handle any non-numeric inputs by prompting the user to try again.\n",
        "\n",
        "#Requirements:\n",
        "\n",
        "#Use a loop to generate and print the multiplication table.\n",
        "#Use exception handling to catch and handle non-numeric inputs.\n",
        "#Use if statements to ensure the user input is a positive number."
      ]
    },
    {
      "cell_type": "code",
      "execution_count": null,
      "metadata": {
        "id": "rjj6hKlTr234"
      },
      "outputs": [],
      "source": []
    },
    {
      "cell_type": "code",
      "source": [
        "#Expected Output:\n",
        "#Enter a positive number to generate its multiplication table: -2\n",
        "#Please enter a positive number.\n",
        "#Enter a positive number to generate its multiplication table: abc\n",
        "#Invalid input. Please enter a numeric value.\n",
        "#Enter a positive number to generate its multiplication table: 5\n",
        "#5 x 1 = 5\n",
        "#5 x 2 = 10\n",
        "#...\n",
        "#5 x 10 = 50\n",
        "\n",
        "\n"
      ],
      "metadata": {
        "id": "aZXR6Vs4BE7P"
      },
      "execution_count": null,
      "outputs": []
    },
    {
      "cell_type": "code",
      "execution_count": null,
      "metadata": {
        "id": "eBq7ha72r20z"
      },
      "outputs": [],
      "source": [
        "#Question 2: Simple ATM Interface\n",
        "#Task: Write a Python program that simulates a simple ATM interface allowing the user to deposit, withdraw, and check their balance.\n",
        "#Ensure the program handles invalid inputs and enforces that the user cannot withdraw more than their current balance.\n",
        "\n",
        "#Requirements:\n",
        "\n",
        "#Use a loop to create a menu-driven interface that runs until the user chooses to exit.\n",
        "#Implement if statements to process user commands.\n",
        "#Use exception handling to manage non-numeric inputs.\n",
        "#Prevent overdrawing the account."
      ]
    },
    {
      "cell_type": "code",
      "source": [],
      "metadata": {
        "id": "B1m7IuDoETV3"
      },
      "execution_count": null,
      "outputs": []
    },
    {
      "cell_type": "code",
      "source": [
        "##Expected Output:\n",
        "#ATM Menu:\n",
        "#1. Deposit\n",
        "#2. Withdraw\n",
        "#3. Check Balance\n",
        "#4. Exit\n",
        "#Choose an action: 1\n",
        "#Enter amount to deposit: 100\n",
        "#$100.0 deposited.\n",
        "#\n",
        "#ATM Menu:\n",
        "#...\n",
        "\n"
      ],
      "metadata": {
        "id": "2iDZTySKBwiJ"
      },
      "execution_count": null,
      "outputs": []
    }
  ],
  "metadata": {
    "colab": {
      "provenance": []
    },
    "kernelspec": {
      "display_name": "Python 3",
      "name": "python3"
    },
    "language_info": {
      "name": "python"
    }
  },
  "nbformat": 4,
  "nbformat_minor": 0
}