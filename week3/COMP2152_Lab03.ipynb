{
  "nbformat": 4,
  "nbformat_minor": 0,
  "metadata": {
    "colab": {
      "provenance": []
    },
    "kernelspec": {
      "name": "python3",
      "display_name": "Python 3"
    },
    "language_info": {
      "name": "python"
    }
  },
  "cells": [
    {
      "cell_type": "markdown",
      "source": [
        "# List"
      ],
      "metadata": {
        "id": "5q-k5b9yWcNQ"
      }
    },
    {
      "cell_type": "markdown",
      "source": [
        "Use a 2-dimensional list to create and store the information of employees where each employee in the list consists of the following \n",
        "\n",
        "[Employee ID, Employee Name, Emloyee Type, Hours Worked, Hourly Rate, Location, Salary]\n",
        "\n",
        "The default value of salary is 0 and we will develop the script to update this value based on the employee type, hours worked and hourly wage.\n",
        "\n",
        "E.g.\n",
        "\n",
        "employees = [\n",
        "\n",
        "[1, John, full-time, 40, 15, \"ON\", 0],\n",
        "\n",
        "[2, Jane, part-time, 20, 12, \"ON\", 0],\n",
        "\n",
        "[3, Bob, full-time, 35, 16, \"AB\", 0]\n",
        "\n",
        "]"
      ],
      "metadata": {
        "id": "0gjhkpktXG30"
      }
    },
    {
      "cell_type": "code",
      "execution_count": null,
      "metadata": {
        "id": "C_JVa-M-WXo7"
      },
      "outputs": [],
      "source": [
        "# Initial an empty employees list\n",
        "employees = []"
      ]
    },
    {
      "cell_type": "code",
      "source": [
        "# Using 1-dimension list to store the detail of each employee\n",
        "# Employee ID, Employee Name, Emloyee Type, Hours Worked, Hourly Rate, Location, Salary\n",
        "e1 = [1, \"John\", \"full-time\", 40, 15, \"ON\", 0]\n",
        "e2 = [2, \"Jane\", \"part-time\", 20, 12, \"ON\", 0]\n",
        "e3 = [3, \"Bob\", \"full-time\", 35, 16, \"AB\", 0]"
      ],
      "metadata": {
        "id": "0vydzOJuXoaT"
      },
      "execution_count": null,
      "outputs": []
    },
    {
      "cell_type": "code",
      "source": [
        "# Append e1 and e3 employees to the list\n"
      ],
      "metadata": {
        "id": "CPn5sms_Xu5s"
      },
      "execution_count": null,
      "outputs": []
    },
    {
      "cell_type": "code",
      "source": [
        "# Print the list of employees\n"
      ],
      "metadata": {
        "colab": {
          "base_uri": "https://localhost:8080/"
        },
        "id": "2EakiR6OXu2M",
        "outputId": "f5f679ab-3401-42b3-94f5-9c100f40eb2b"
      },
      "execution_count": null,
      "outputs": [
        {
          "output_type": "stream",
          "name": "stdout",
          "text": [
            "[[1, 'John', 'full-time', 40, 15, 'ON', 0], [3, 'Bob', 'full-time', 35, 16, 'AB', 0]]\n"
          ]
        }
      ]
    },
    {
      "cell_type": "code",
      "source": [
        "# Using insert method to insert e2 between e1 and e3 in the employees list\n"
      ],
      "metadata": {
        "id": "dOb7uGXoXuzg"
      },
      "execution_count": null,
      "outputs": []
    },
    {
      "cell_type": "code",
      "source": [
        "# Print the list of employees\n"
      ],
      "metadata": {
        "colab": {
          "base_uri": "https://localhost:8080/"
        },
        "id": "L6KbGc3EXuxL",
        "outputId": "260a5e1c-92b5-4522-cc23-1ea76ce9c13b"
      },
      "execution_count": null,
      "outputs": [
        {
          "output_type": "stream",
          "name": "stdout",
          "text": [
            "[[1, 'John', 'full-time', 40, 15, 'ON', 0], [2, 'Jane', 'part-time', 20, 12, 'ON', 0], [3, 'Bob', 'full-time', 35, 16, 'AB', 0]]\n"
          ]
        }
      ]
    },
    {
      "cell_type": "code",
      "source": [
        "# Define a function to check if an employee id is already exist, and return True if exists or False if not exists\n"
      ],
      "metadata": {
        "id": "ko-Djvl-Xuul"
      },
      "execution_count": null,
      "outputs": []
    },
    {
      "cell_type": "code",
      "source": [
        "# Check if employee with id 1 exist\n",
        "print(check_employee_exists(1))"
      ],
      "metadata": {
        "colab": {
          "base_uri": "https://localhost:8080/"
        },
        "id": "k-g4zRAGXur8",
        "outputId": "a6a17964-5ae8-46e2-e875-a7e90bee25c1"
      },
      "execution_count": null,
      "outputs": [
        {
          "output_type": "stream",
          "name": "stdout",
          "text": [
            "True\n"
          ]
        }
      ]
    },
    {
      "cell_type": "code",
      "source": [
        "# Check if employee with id 99 exist\n"
      ],
      "metadata": {
        "colab": {
          "base_uri": "https://localhost:8080/"
        },
        "id": "OjmVKTqJcOri",
        "outputId": "f99d8271-8e76-4c4c-b460-60edbcbc8fa9"
      },
      "execution_count": null,
      "outputs": [
        {
          "output_type": "stream",
          "name": "stdout",
          "text": [
            "False\n"
          ]
        }
      ]
    },
    {
      "cell_type": "code",
      "source": [
        "# Alternatively, define a function to find employee and return the location(index) of the employee in the employees list. \n",
        "# If -1, employee not exist, otherwise, employee exists and employee location is return for further operations such as update, delete\n"
      ],
      "metadata": {
        "id": "UwZZ83nOXupO"
      },
      "execution_count": null,
      "outputs": []
    },
    {
      "cell_type": "code",
      "source": [
        "# Use find_employee function to check and return location of employee with id 3\n"
      ],
      "metadata": {
        "colab": {
          "base_uri": "https://localhost:8080/"
        },
        "id": "Lqmix38GXum6",
        "outputId": "43f710ef-ec1c-4375-b8aa-070c14c06b5f"
      },
      "execution_count": null,
      "outputs": [
        {
          "output_type": "stream",
          "name": "stdout",
          "text": [
            "2\n"
          ]
        }
      ]
    },
    {
      "cell_type": "code",
      "source": [
        "# Use find_employee function to check and return location of employee with id 99\n"
      ],
      "metadata": {
        "colab": {
          "base_uri": "https://localhost:8080/"
        },
        "id": "aEKL5cXxXuf4",
        "outputId": "4bdd4ef0-730c-4832-de1a-59077534e8bc"
      },
      "execution_count": null,
      "outputs": [
        {
          "output_type": "stream",
          "name": "stdout",
          "text": [
            "-1\n"
          ]
        }
      ]
    },
    {
      "cell_type": "code",
      "source": [
        "# Add new employee, check if employee exists before adding\n",
        "# [Employee ID, Employee Name, Emloyee Type, Hours Worked, Hourly Rate, Location, Salary ]\n",
        "# First, get employee information from users\n"
      ],
      "metadata": {
        "id": "vevBg0ThXuca",
        "colab": {
          "base_uri": "https://localhost:8080/"
        },
        "outputId": "684d43d8-8855-4711-8f25-c5401e5a65f0"
      },
      "execution_count": null,
      "outputs": [
        {
          "name": "stdout",
          "output_type": "stream",
          "text": [
            "Enter Employee ID: 1\n",
            "Enter Employee Name: Kelly\n",
            "Enter Employee Type: full-time\n",
            "Enter Employee Total Hours Worked: 20\n",
            "Enter Employee Hourly Rate: 15\n",
            "Enter Employee Location: AB\n"
          ]
        }
      ]
    },
    {
      "cell_type": "code",
      "source": [
        "# Using function check_employee_exists before adding employee\n",
        "if check_employee_exists(employee_id):\n",
        "  # if True print employee already exists\n",
        " \n",
        "else:\n",
        "  # if False, add employee with the above info, then print employee is successfully added\n",
        " "
      ],
      "metadata": {
        "id": "yhnDY-J0XuS1",
        "colab": {
          "base_uri": "https://localhost:8080/"
        },
        "outputId": "4ea1f393-c02c-455d-c950-7538af01f38e"
      },
      "execution_count": null,
      "outputs": [
        {
          "output_type": "stream",
          "name": "stdout",
          "text": [
            "Employee with ID 1 already exists.\n"
          ]
        }
      ]
    },
    {
      "cell_type": "markdown",
      "source": [
        "Update Employee Hours of Worked by Employee ID"
      ],
      "metadata": {
        "id": "4l3UdMM1dwll"
      }
    },
    {
      "cell_type": "code",
      "source": [
        "# Update an employee hours worked by employee id, check if employee exists using find_employee function before updating\n",
        "# Get employee id from user input\n"
      ],
      "metadata": {
        "id": "8imehIjbXuHl",
        "colab": {
          "base_uri": "https://localhost:8080/"
        },
        "outputId": "a024a314-c127-4c75-bc66-7ab919158543"
      },
      "execution_count": null,
      "outputs": [
        {
          "name": "stdout",
          "output_type": "stream",
          "text": [
            "Enter Employee ID to update: 1\n"
          ]
        }
      ]
    },
    {
      "cell_type": "code",
      "source": [
        "# Use find_employee function to get the location of the employee in the employees list and store the location in a variable called \"index\"\n"
      ],
      "metadata": {
        "colab": {
          "base_uri": "https://localhost:8080/"
        },
        "id": "PWpxNDJ_cVPn",
        "outputId": "aee3db9a-01d5-4328-b9f0-cee5ccb62f84"
      },
      "execution_count": null,
      "outputs": [
        {
          "output_type": "stream",
          "name": "stdout",
          "text": [
            "0\n"
          ]
        }
      ]
    },
    {
      "cell_type": "code",
      "source": [
        "# if index is not -1 (means that the employee exists), prompt input from users and update the employee's hours of worked\n",
        "if index != -1:\n",
        "  \n",
        "else:\n",
        "  # else, print employee does not exist\n",
        " "
      ],
      "metadata": {
        "colab": {
          "base_uri": "https://localhost:8080/"
        },
        "id": "i1d1hMBhcVMJ",
        "outputId": "87338c6f-fa7a-42e1-ab85-94a0c18a2f2a"
      },
      "execution_count": null,
      "outputs": [
        {
          "name": "stdout",
          "output_type": "stream",
          "text": [
            "Enter updated hours of worked: 45\n"
          ]
        }
      ]
    },
    {
      "cell_type": "code",
      "source": [
        "# print employees to confirm the update\n"
      ],
      "metadata": {
        "colab": {
          "base_uri": "https://localhost:8080/"
        },
        "id": "iwvDZgDWcVJ6",
        "outputId": "5c9e12a3-9ed7-4545-cbda-d048ccdf4185"
      },
      "execution_count": null,
      "outputs": [
        {
          "output_type": "execute_result",
          "data": {
            "text/plain": [
              "[[1, 'John', 'full-time', 45, 15, 'ON', 0],\n",
              " [2, 'Jane', 'part-time', 20, 12, 'ON', 0],\n",
              " [3, 'Bob', 'full-time', 35, 16, 'AB', 0]]"
            ]
          },
          "metadata": {},
          "execution_count": 19
        }
      ]
    },
    {
      "cell_type": "markdown",
      "source": [
        "Remove/Delete Employee by Employee ID"
      ],
      "metadata": {
        "id": "AtB2flpJd3k0"
      }
    },
    {
      "cell_type": "code",
      "source": [
        "# Remove an employee by employee id, check if employee exists before removing\n",
        "# Get employee id from user input\n"
      ],
      "metadata": {
        "colab": {
          "base_uri": "https://localhost:8080/"
        },
        "id": "WYGO68pzcVHr",
        "outputId": "3e878a6e-2d12-40a0-d19d-bbfeee4d0e19"
      },
      "execution_count": null,
      "outputs": [
        {
          "name": "stdout",
          "output_type": "stream",
          "text": [
            "Enter Employee ID to delete: 99\n"
          ]
        }
      ]
    },
    {
      "cell_type": "code",
      "source": [
        "# Use find_employee function to get the location of the employee in the employees list and store the location in a variable called \"index\"\n"
      ],
      "metadata": {
        "colab": {
          "base_uri": "https://localhost:8080/"
        },
        "id": "vQqLYAmrcVFA",
        "outputId": "e084383a-f045-49c4-a746-90a4c636cf94"
      },
      "execution_count": null,
      "outputs": [
        {
          "output_type": "stream",
          "name": "stdout",
          "text": [
            "-1\n"
          ]
        }
      ]
    },
    {
      "cell_type": "code",
      "source": [
        "# if index is not -1 (means that the employee exists), delete employee using pop() method\n",
        "if index != -1:\n",
        "\n",
        "  #print employee list to confirm the employee has been remove\n",
        "\n",
        "else:\n",
        "  "
      ],
      "metadata": {
        "colab": {
          "base_uri": "https://localhost:8080/"
        },
        "id": "35uABtPTcVCU",
        "outputId": "0c67a99a-a1d5-4d50-d1f3-595a737db431"
      },
      "execution_count": null,
      "outputs": [
        {
          "output_type": "stream",
          "name": "stdout",
          "text": [
            "Employee with ID 99 not exists.\n"
          ]
        }
      ]
    },
    {
      "cell_type": "markdown",
      "source": [
        "Calculate Employee Salary"
      ],
      "metadata": {
        "id": "Mg4VhDc3e2Vi"
      }
    },
    {
      "cell_type": "code",
      "source": [
        "# Define a function name calculate_salary() to calculate employee salary. If employee type is \"Full-time\", salary = hours_worked * hourly_rate * 2, if employee type is \"Part-time\", salary = hours_worked * hourly_rate\n"
      ],
      "metadata": {
        "id": "BnAW06nwXtv-"
      },
      "execution_count": null,
      "outputs": []
    },
    {
      "cell_type": "code",
      "source": [
        "# Iterate through the list of employee, using the calculate_salary() function to calculate and print the salary of each employee.\n",
        "# [Employee ID, Employee Name, Emloyee Type, Hours Worked, Hourly Rate, Location, Salary ]\n"
      ],
      "metadata": {
        "colab": {
          "base_uri": "https://localhost:8080/"
        },
        "id": "3qXcZW0He8ZF",
        "outputId": "cbd8dfc3-1155-4e55-b86b-ef37e7bbc899"
      },
      "execution_count": null,
      "outputs": [
        {
          "output_type": "stream",
          "name": "stdout",
          "text": [
            "John's salary: $1350\n",
            "Jane's salary: $240\n",
            "Bob's salary: $1120\n"
          ]
        }
      ]
    },
    {
      "cell_type": "code",
      "source": [
        "# Print employee list to review the updates\n"
      ],
      "metadata": {
        "colab": {
          "base_uri": "https://localhost:8080/"
        },
        "id": "fkvjkBjZe8Vl",
        "outputId": "99f420a7-a4bc-4d6c-a812-83da0de0d247"
      },
      "execution_count": null,
      "outputs": [
        {
          "output_type": "stream",
          "name": "stdout",
          "text": [
            "Employee ID, Employee Name, Employee Type, Hours Worked, Hourly Rate, Location, Salary\n",
            "1, John, full-time, 45, 15, ON, 1350\n",
            "2, Jane, part-time, 20, 12, ON, 240\n",
            "3, Bob, full-time, 35, 16, AB, 1120\n"
          ]
        }
      ]
    },
    {
      "cell_type": "markdown",
      "source": [
        "# Dictionary"
      ],
      "metadata": {
        "id": "LyP7sP02Wmo9"
      }
    },
    {
      "cell_type": "code",
      "source": [
        "# Add a dictionary to look up and display employee location\n",
        "provinces = {\n",
        "  \"AB\": \"Alberta\", \n",
        "  \"BC\": \"British Columbia\", \n",
        "  \"MB\": \"Manitoba\", \n",
        "  \"NB\": \"New Brunswick\",\n",
        "  \"NL\": \"Newfoundland and Labrador\", \n",
        "  \"NS\": \"Nova Scotia\", \n",
        "  \"NT\": \"Northwest Territories\",\n",
        "  \"NU\": \"Nunavut\", \n",
        "  \"ON\": \"Ontario\", \n",
        "  \"PE\": \"Prince Edward Island\", \n",
        "  \"QC\": \"Quebec\",\n",
        "  \"SK\": \"Saskatchewan\", \n",
        "  \"YT\": \"Yukon\"\n",
        "}"
      ],
      "metadata": {
        "id": "peD1GGkqWq9L"
      },
      "execution_count": null,
      "outputs": []
    },
    {
      "cell_type": "code",
      "source": [
        "# Using the key to access the value in the dict. E.g. use \"ON\" as the key\n",
        "print(provinces[\"ON\"])"
      ],
      "metadata": {
        "colab": {
          "base_uri": "https://localhost:8080/"
        },
        "id": "ah2aGQpRW50v",
        "outputId": "810afedf-5fba-48c4-bec8-ee16845add14"
      },
      "execution_count": null,
      "outputs": [
        {
          "output_type": "stream",
          "name": "stdout",
          "text": [
            "Ontario\n"
          ]
        }
      ]
    },
    {
      "cell_type": "code",
      "source": [
        "# Iterate through the list of employee and look up in the provinces dict to display the full name of the provinces the employee located instead of the abbreviation.\n",
        "# Employee ID, Employee Name, Emloyee Type, Hours Worked, Hourly Rate, Location, Salary\n",
        "for employee in employees:\n"
      ],
      "metadata": {
        "id": "mOViGaM5W8xw",
        "colab": {
          "base_uri": "https://localhost:8080/"
        },
        "outputId": "f8037268-551b-40fa-dedf-800b8ebda1ca"
      },
      "execution_count": null,
      "outputs": [
        {
          "output_type": "stream",
          "name": "stdout",
          "text": [
            "John is located in: Ontario\n",
            "Jane is located in: Ontario\n",
            "Bob is located in: Alberta\n"
          ]
        }
      ]
    }
  ]
}