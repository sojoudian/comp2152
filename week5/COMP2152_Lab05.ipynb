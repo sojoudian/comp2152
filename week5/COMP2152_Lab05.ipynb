{
  "cells": [
    {
      "cell_type": "markdown",
      "metadata": {
        "id": "b9nlFoLzbkP2"
      },
      "source": [
        "# Menu for Python Console App"
      ]
    },
    {
      "cell_type": "markdown",
      "metadata": {
        "id": "R0I2pXQNbs8p"
      },
      "source": [
        "In the previous exercises, we have created a few functions to manage employees information such as adding new employees, and print the list of employees.\n",
        "\n",
        "In this exercise, you will practice creating a simple menu that allows users to access and select different functions or options within your application. The menu helps make the application more user-friend by providing an organized and easily navigable list of options."
      ]
    },
    {
      "cell_type": "code",
      "execution_count": null,
      "metadata": {
        "id": "V_OYli8QbsPM"
      },
      "outputs": [],
      "source": [
        "# Let review the functions we have created in lab 04 exercise."
      ]
    },
    {
      "cell_type": "code",
      "execution_count": 3,
      "metadata": {
        "id": "JYLSbNUDdHH4"
      },
      "outputs": [],
      "source": [
        "#print employees\n",
        "#helper methods for user_input validation\n",
        "#create employees"
      ]
    },
    {
      "cell_type": "code",
      "execution_count": null,
      "metadata": {
        "id": "nfbtbmQYeVfr"
      },
      "outputs": [],
      "source": [
        "# Let create a function called print_menu() to print the menu content using print() method. The menu shall have 3 options: 1 - Create Employees, 2 - Print Employees, 3 - Exit"
      ]
    },
    {
      "cell_type": "code",
      "execution_count": null,
      "metadata": {
        "id": "SZlG2qKzehDC"
      },
      "outputs": [],
      "source": []
    },
    {
      "cell_type": "code",
      "execution_count": null,
      "metadata": {
        "id": "m23bS2j1fAb-"
      },
      "outputs": [],
      "source": [
        "# Now, let create a function called get_menu_option() to get users input for the menu options.\n",
        "# This function will prompt for users to input a number represent the menu option they would like to execute.\n",
        "# One user enters a menu option, we use a while loop to validate user input until a number within the (1, 4) range is received.\n",
        "# This function will return an integer value"
      ]
    },
    {
      "cell_type": "code",
      "execution_count": null,
      "metadata": {
        "id": "5KVpXUfefUzG"
      },
      "outputs": [],
      "source": []
    },
    {
      "cell_type": "code",
      "execution_count": null,
      "metadata": {
        "id": "DtYJ4b5Tf_HX"
      },
      "outputs": [],
      "source": [
        "# Main flow starts here ======================================================================================"
      ]
    },
    {
      "cell_type": "code",
      "execution_count": null,
      "metadata": {
        "id": "1q0YsN4Wgtwz"
      },
      "outputs": [],
      "source": [
        "# Let create a variable call menu_option and initiate its with 0. Later on, this variable will be used to store the menu option entered by user\n",
        "# Use a while loop and if statements to navigate users to the according function until users choose to exit the program by entering value \"3\"."
      ]
    },
    {
      "cell_type": "code",
      "execution_count": null,
      "metadata": {},
      "outputs": [],
      "source": [
        "#Question: Extend the Python application to include a feature that calculates and updates the salary for each employee.\n",
        "#The salary should be calculated as follows: (Hours Worked * Hourly Rate). Once calculated,\n",
        "#the salary should be updated in the employee's details.\n",
        "#Add a new menu option \"4 - Update Salaries\" to calculate and update the salaries for all employees.\n",
        "#Ensure that after updating the salaries, users can see the updated information by selecting the \"Print Employees\" option.\n",
        "#Also, include input validation for the new menu option and make sure the program continues to run smoothly with this new feature.\n",
        "\n"
      ]
    },
    {
      "cell_type": "code",
      "execution_count": null,
      "metadata": {},
      "outputs": [],
      "source": [
        "#Implement Salary Adjustment Feature\n",
        "#Extend the application to allow for individual salary adjustments. Implement a feature where the user can input an employee ID and a \n",
        "#new hourly rate, and the application updates the specified employee's hourly rate. Add a new menu option \"5 - Adjust Employee Hourly Rate\" \n",
        "#that prompts the user for an employee ID and a new hourly rate, validates the input, and updates the employee's hourly rate accordingly. \n",
        "#    Ensure proper validation for the employee ID and the new hourly rate."
      ]
    },
    {
      "cell_type": "code",
      "execution_count": null,
      "metadata": {},
      "outputs": [],
      "source": []
    }
  ],
  "metadata": {
    "colab": {
      "provenance": []
    },
    "kernelspec": {
      "display_name": "Python 3",
      "name": "python3"
    },
    "language_info": {
      "name": "python"
    }
  },
  "nbformat": 4,
  "nbformat_minor": 0
}
