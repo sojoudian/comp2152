{
  "nbformat": 4,
  "nbformat_minor": 0,
  "metadata": {
    "colab": {
      "provenance": []
    },
    "kernelspec": {
      "name": "python3",
      "display_name": "Python 3"
    },
    "language_info": {
      "name": "python"
    }
  },
  "cells": [
    {
      "cell_type": "markdown",
      "source": [
        "# Menu for Python Console App"
      ],
      "metadata": {
        "id": "b9nlFoLzbkP2"
      }
    },
    {
      "cell_type": "markdown",
      "source": [
        "In the previous exercises, we have created a few functions to manage employees information such as adding new employees, and print the list of employees.\n",
        "\n",
        "In this exercise, you will practice creating a simple menu that allows users to access and select different functions or options within your application. The menu helps make the application more user-friend by providing an organized and easily navigable list of options."
      ],
      "metadata": {
        "id": "R0I2pXQNbs8p"
      }
    },
    {
      "cell_type": "code",
      "source": [
        "# Let review the functions we have created in lab 04 exercise."
      ],
      "metadata": {
        "id": "V_OYli8QbsPM"
      },
      "execution_count": null,
      "outputs": []
    },
    {
      "cell_type": "code",
      "source": [
        "#print employees\n",
        "#helper methods for user_input validation\n",
        "#create employees"
      ],
      "metadata": {
        "id": "JYLSbNUDdHH4"
      },
      "execution_count": 3,
      "outputs": []
    },
    {
      "cell_type": "code",
      "source": [
        "# Let create a function called print_menu() to print the menu content using print() method. The menu shall have 3 options: 1 - Create Employees, 2 - Print Employees, 3 - Exit"
      ],
      "metadata": {
        "id": "nfbtbmQYeVfr"
      },
      "execution_count": null,
      "outputs": []
    },
    {
      "cell_type": "code",
      "source": [],
      "metadata": {
        "id": "SZlG2qKzehDC"
      },
      "execution_count": null,
      "outputs": []
    },
    {
      "cell_type": "code",
      "source": [
        "# Now, let create a function called get_menu_option() to get users input for the menu options.\n",
        "# This function will prompt for users to input a number represent the menu option they would like to execute.\n",
        "# One user enters a menu option, we use a while loop to validate user input until a number within the (1, 4) range is received.\n",
        "# This function will return an integer value"
      ],
      "metadata": {
        "id": "m23bS2j1fAb-"
      },
      "execution_count": null,
      "outputs": []
    },
    {
      "cell_type": "code",
      "source": [],
      "metadata": {
        "id": "5KVpXUfefUzG"
      },
      "execution_count": null,
      "outputs": []
    },
    {
      "cell_type": "code",
      "source": [
        "# Main flow starts here ======================================================================================"
      ],
      "metadata": {
        "id": "DtYJ4b5Tf_HX"
      },
      "execution_count": null,
      "outputs": []
    },
    {
      "cell_type": "code",
      "source": [
        "# Let create a variable call menu_option and initiate its with 0. Later on, this variable will be used to store the menu option entered by user\n",
        "# Use a while loop and if statements to navigate users to the according function until users choose to exit the program by entering value \"3\"."
      ],
      "metadata": {
        "id": "1q0YsN4Wgtwz"
      },
      "execution_count": null,
      "outputs": []
    }
  ]
}