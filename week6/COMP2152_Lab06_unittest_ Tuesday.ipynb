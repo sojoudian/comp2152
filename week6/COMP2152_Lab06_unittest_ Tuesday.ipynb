{
  "cells": [
    {
      "cell_type": "code",
      "execution_count": null,
      "metadata": {},
      "outputs": [],
      "source": [
        "# Write your name and student ID here as a comment like:\n",
        "#Maziar Sojoudian 1011121314"
      ]
    },
    {
      "cell_type": "code",
      "execution_count": null,
      "metadata": {},
      "outputs": [],
      "source": [
        "def add(a, b):\n",
        "    return a + b"
      ]
    },
    {
      "cell_type": "code",
      "execution_count": null,
      "metadata": {
        "id": "r2LNVBNI4C2y"
      },
      "outputs": [],
      "source": [
        "# Unit Test for \"add\" function:\n",
        "import unittest\n",
        "\n",
        "class TestAddFunction(unittest.TestCase):\n",
        "    def test_add(self):\n",
        "        self.assertEqual(add(1, 2), 3)\n",
        "        self.assertEqual(add(-1, 1), 0)\n",
        "        self.assertEqual(add(-1, -1), -2)\n",
        "\n",
        "# if __name__ == '__main__':\n",
        "#     unittest.main()\n",
        "unittest.main(argv=[''], exit=False)        \n"
      ]
    },
    {
      "cell_type": "code",
      "execution_count": null,
      "metadata": {
        "id": "oNhgkOCi4qyQ"
      },
      "outputs": [],
      "source": [
        "class Calculator:\n",
        "    def add(self, a, b):\n",
        "        return a + b\n",
        "    def subtract(self, a, b):\n",
        "        return a - b"
      ]
    },
    {
      "cell_type": "code",
      "execution_count": null,
      "metadata": {},
      "outputs": [],
      "source": [
        "# Unit test for \"Calculator\"\n",
        "class TestCalculator(unittest.TestCase):\n",
        "    def setUp(self):\n",
        "        self.calc = Calculator()\n",
        "        \n",
        "    def test_add(self):\n",
        "        self.assertEqual(self.calc.add(1, 2), 3)\n",
        "        self.assertEqual(self.calc.add(-1, 1), 0)\n",
        "    \n",
        "    def test_subtract(self):\n",
        "        self.assertEqual(self.calc.subtract(2, 1), 1)\n",
        "        self.assertEqual(self.calc.subtract(-1, -1), 0)\n",
        "\n",
        "# if __name__ == '__main__':\n",
        "#     unittest.main()\n",
        "unittest.main(argv=[''], exit=False)        \n"
      ]
    }
  ],
  "metadata": {
    "colab": {
      "provenance": []
    },
    "kernelspec": {
      "display_name": "Python 3",
      "name": "python3"
    },
    "language_info": {
      "name": "python"
    }
  },
  "nbformat": 4,
  "nbformat_minor": 0
}
