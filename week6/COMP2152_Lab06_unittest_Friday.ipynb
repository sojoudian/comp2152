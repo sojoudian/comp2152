{
  "cells": [
    {
      "cell_type": "code",
      "execution_count": null,
      "metadata": {},
      "outputs": [],
      "source": [
        "# Write your name and student ID here as a comment like:\n",
        "#Maziar Sojoudian 1011121314"
      ]
    },
    {
      "cell_type": "code",
      "execution_count": null,
      "metadata": {
        "id": "S9qAF-bL4A74"
      },
      "outputs": [],
      "source": [
        "# Function \"square\" that takes a single argument and returns its square"
      ]
    },
    {
      "cell_type": "code",
      "execution_count": null,
      "metadata": {},
      "outputs": [],
      "source": [
        "def square(number):\n",
        "    \"\"\"Returns the square of a number.\"\"\"\n",
        "    return number ** 2"
      ]
    },
    {
      "cell_type": "code",
      "execution_count": null,
      "metadata": {
        "id": "r2LNVBNI4C2y"
      },
      "outputs": [],
      "source": [
        "# Unit Test for \"square\":\n",
        "import unittest\n",
        "\n",
        "class TestSquareFunction(unittest.TestCase):\n",
        "\n",
        "    def test_square_positive(self):\n",
        "        \"\"\"Test that the square function works for positive numbers.\"\"\"\n",
        "        self.assertEqual(square(4), 16)\n",
        "\n",
        "    def test_square_negative(self):\n",
        "        \"\"\"Test that the square function works for negative numbers.\"\"\"\n",
        "        self.assertEqual(square(-3), 9)\n",
        "\n",
        "    def test_square_zero(self):\n",
        "        \"\"\"Test that the square function works for zero.\"\"\"\n",
        "        self.assertEqual(square(0), 0)\n",
        "\n",
        "if __name__ == '__main__':\n",
        "    unittest.main()"
      ]
    },
    {
      "cell_type": "code",
      "execution_count": null,
      "metadata": {
        "id": "oNhgkOCi4qyQ"
      },
      "outputs": [],
      "source": [
        "# The \"is_palindrome\" function that takes a string as input and returns True if the string is a palindrome and False otherwise.\n",
        "def is_palindrome(s):\n",
        "    \"\"\"Check if a string is a palindrome.\"\"\"\n",
        "    # Normalize the string: remove spaces, punctuation, and make lowercase.\n",
        "    clean_s = ''.join(char.lower() for char in s if char.isalnum())\n",
        "    # Check if the cleaned string is equal to its reverse.\n",
        "    return clean_s == clean_s[::-1]"
      ]
    },
    {
      "cell_type": "code",
      "execution_count": null,
      "metadata": {},
      "outputs": [],
      "source": [
        "# Unit test for \"is_palindrome\"\n",
        "import unittest\n",
        "\n",
        "class TestIsPalindrome(unittest.TestCase):\n",
        "\n",
        "    def test_palindrome_simple(self):\n",
        "        \"\"\"Test that the function correctly identifies simple palindromes.\"\"\"\n",
        "        self.assertTrue(is_palindrome(\"racecar\"))\n",
        "\n",
        "    def test_palindrome_complex(self):\n",
        "        \"\"\"Test that the function correctly identifies complex palindromes, ignoring spaces and punctuation.\"\"\"\n",
        "        self.assertTrue(is_palindrome(\"A man, a plan, a canal, Panama\"))\n",
        "\n",
        "    def test_palindrome_non_palindrome(self):\n",
        "        \"\"\"Test that the function correctly identifies non-palindromes.\"\"\"\n",
        "        self.assertFalse(is_palindrome(\"openai\"))\n",
        "\n",
        "    def test_palindrome_empty_string(self):\n",
        "        \"\"\"Test that an empty string is considered a palindrome.\"\"\"\n",
        "        self.assertTrue(is_palindrome(\"\"))\n",
        "\n",
        "    def test_palindrome_special_characters(self):\n",
        "        \"\"\"Test that the function works with special characters, considering only alphanumeric characters.\"\"\"\n",
        "        self.assertTrue(is_palindrome(\"Madam, I'm Adam\"))\n",
        "\n",
        "if __name__ == '__main__':\n",
        "    unittest.main()"
      ]
    }
  ],
  "metadata": {
    "colab": {
      "provenance": []
    },
    "kernelspec": {
      "display_name": "Python 3",
      "name": "python3"
    },
    "language_info": {
      "name": "python"
    }
  },
  "nbformat": 4,
  "nbformat_minor": 0
}
