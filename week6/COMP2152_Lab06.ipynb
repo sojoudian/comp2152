{
  "cells": [
    {
      "cell_type": "markdown",
      "metadata": {
        "id": "rZICUkOECqIY"
      },
      "source": [
        "# How to Work With File I/O"
      ]
    },
    {
      "cell_type": "markdown",
      "metadata": {
        "id": "YbMakGKkEYa6"
      },
      "source": [
        "In this exercise, we will enhance our simple employees crud script by adding a mechanism to store and retrieve employee data from a persistent storage, e.g File Storage.\n",
        "\n",
        "File storage is a simple and straightforward method of storing data in which data is saved as files on a disk. It is often used for smaller applications or for applications that do not require complex querying or transactions. Advantages of file storage include simplicity, ease of use, and low overhead. However, file storage has some limitations, such as limited scalability, poor performance for large amounts of data, and the lack of built-in security and data validation."
      ]
    },
    {
      "cell_type": "markdown",
      "metadata": {
        "id": "SaEgmc-iWAKH"
      },
      "source": [
        "# Text File"
      ]
    },
    {
      "cell_type": "markdown",
      "metadata": {
        "id": "7lUusqREC5Up"
      },
      "source": [
        "Write Data to File and Read Data From txt file, then close the file manually"
      ]
    },
    {
      "cell_type": "code",
      "execution_count": null,
      "metadata": {
        "id": "S9qAF-bL4A74"
      },
      "outputs": [],
      "source": [
        "# Function \"add\" will add two numbers, a and b, together and return the result. Please write a unit test for the \"add\" function."
      ]
    },
    {
      "cell_type": "code",
      "execution_count": 3,
      "metadata": {
        "id": "Kq_HRM_H4VUC"
      },
      "outputs": [],
      "source": [
        "def add(a, b):\n",
        "    return a + b"
      ]
    },
    {
      "cell_type": "code",
      "execution_count": null,
      "metadata": {
        "id": "r2LNVBNI4C2y"
      },
      "outputs": [],
      "source": [
        "#Unit Test:"
      ]
    },
    {
      "cell_type": "code",
      "execution_count": null,
      "metadata": {
        "id": "Lwl33ump4d7D"
      },
      "outputs": [],
      "source": []
    },
    {
      "cell_type": "code",
      "execution_count": null,
      "metadata": {
        "id": "oNhgkOCi4qyQ"
      },
      "outputs": [],
      "source": [
        "# Now create unit test for the following class:"
      ]
    },
    {
      "cell_type": "code",
      "execution_count": 2,
      "metadata": {
        "id": "FcU5eWmJ4wb0"
      },
      "outputs": [],
      "source": [
        "class Calculator:\n",
        "    def add(self, a, b):\n",
        "        return a + b\n",
        "    def subtract(self, a, b):\n",
        "        return a - b"
      ]
    },
    {
      "cell_type": "code",
      "execution_count": null,
      "metadata": {
        "id": "ipD8hCHnFGLe"
      },
      "outputs": [],
      "source": [
        "# open the file named \"employee_data.txt\" in \"write mode\" and store the return object in a variable named \"file\""
      ]
    },
    {
      "cell_type": "code",
      "execution_count": 1,
      "metadata": {
        "id": "p94lw3X5FW18"
      },
      "outputs": [],
      "source": []
    },
    {
      "cell_type": "code",
      "execution_count": null,
      "metadata": {
        "colab": {
          "base_uri": "https://localhost:8080/"
        },
        "id": "ANKBO2RuMXSg",
        "outputId": "1725db61-e071-4f37-99b3-a63e62e11668"
      },
      "outputs": [
        {
          "data": {
            "text/plain": [
              "_io.TextIOWrapper"
            ]
          },
          "execution_count": 57,
          "metadata": {},
          "output_type": "execute_result"
        }
      ],
      "source": [
        "type(file)\n",
        "# _io.TextIOWrapper is a class in the Python Standard Library that provides a text-mode interface\n",
        "# for reading and writing text files. It is part of the io module, which is a built-in module in Python that provides a set of functions for working with I/O (input/output) operations."
      ]
    },
    {
      "cell_type": "code",
      "execution_count": null,
      "metadata": {
        "id": "u4gAmUTFFWzH"
      },
      "outputs": [],
      "source": [
        "# using write method, write the header row to the file\n",
        "# Employee ID,Employee Name,Employee Type,Hours Worked,Hourly Rate,Location,Salary\n",
        "# Do not forget to add a line break character \\n at the end of each line."
      ]
    },
    {
      "cell_type": "code",
      "execution_count": null,
      "metadata": {
        "colab": {
          "base_uri": "https://localhost:8080/"
        },
        "id": "xChgxtI9FWwR",
        "outputId": "b320fdb0-2f45-4782-9c2e-62b7a3c0634d"
      },
      "outputs": [
        {
          "data": {
            "text/plain": [
              "81"
            ]
          },
          "execution_count": 59,
          "metadata": {},
          "output_type": "execute_result"
        }
      ],
      "source": []
    },
    {
      "cell_type": "code",
      "execution_count": null,
      "metadata": {
        "id": "QqhliL4GIPEL"
      },
      "outputs": [],
      "source": [
        "# After executed the previous line of code, navigate to the file directory, open the employee_data.txt and check if there is any content is shown.\n",
        "\n",
        "# Interesting, the file is empty! It is because the file is not yet closed.\n",
        "\n",
        "# When a file is opened for reading or writing, it is locked by the operating system to prevent other processes from accessing it.\n",
        "# Once the file has been read from or written to, the lock is released and the file can be closed. Closing the file also ensures that any changes made to the file are properly saved\n",
        "# and that any buffer data is flushed to the disk.\n",
        "\n",
        "# Failing to close a file after reading from or writing to it can result in several problems, such as data corruption or resource leaks. For example, if a file is not closed after\n",
        "# writing to it, any changes made to the file may not be saved properly and the contents of the file may become inconsistent.\n"
      ]
    },
    {
      "cell_type": "code",
      "execution_count": null,
      "metadata": {
        "id": "scBt4hN8Gl3j"
      },
      "outputs": [],
      "source": [
        "# Now, add a line of code to close the file"
      ]
    },
    {
      "cell_type": "code",
      "execution_count": null,
      "metadata": {
        "id": "3CGL7TpMFWtM"
      },
      "outputs": [],
      "source": []
    },
    {
      "cell_type": "code",
      "execution_count": null,
      "metadata": {
        "id": "pH5bYB2WFWqI"
      },
      "outputs": [],
      "source": [
        "# execute the file close() function, navigate to the file directory, open the employee_data.txt, you will now able to see the row header data appeared in the text file"
      ]
    },
    {
      "cell_type": "code",
      "execution_count": null,
      "metadata": {
        "id": "yjSPUrcCFWjU"
      },
      "outputs": [],
      "source": [
        "# Question: If we want to write some data to the file, which mode should we use to make sure that the new data is appended to the existing data instead of overwriting it?\n",
        "# Explain the difference between 'w' and 'a' mode."
      ]
    },
    {
      "cell_type": "code",
      "execution_count": null,
      "metadata": {
        "id": "tnYMV48rUKjk"
      },
      "outputs": [],
      "source": [
        "# Answer: <please type your answer here>"
      ]
    },
    {
      "cell_type": "code",
      "execution_count": null,
      "metadata": {
        "id": "G9QNyp4DFWW3"
      },
      "outputs": [],
      "source": [
        "# Open the file 'employee_data.txt' in the \"append mode\" and start adding a the followinng employees into the file.\n",
        "# Don't forget to close the file when you finish writing!\n",
        "# 1, \"John Doe\", \"full-time\", 40, 25, \"AB\", 0\n",
        "# 2, \"Jane Doe\", \"part-time\", 20, 20, \"ON\", 0\n",
        "# 3, \"Bob Smith\", \"full-time\", 35, 30, \"ON\", 0"
      ]
    },
    {
      "cell_type": "code",
      "execution_count": null,
      "metadata": {
        "id": "ei57YUoXJmDh"
      },
      "outputs": [],
      "source": []
    },
    {
      "cell_type": "markdown",
      "metadata": {
        "id": "EfciGthZLrqj"
      },
      "source": [
        "Read Data from File, then close the file manually\n"
      ]
    },
    {
      "cell_type": "code",
      "execution_count": null,
      "metadata": {
        "id": "HkTkDn7qL8x8"
      },
      "outputs": [],
      "source": [
        "# open the file named \"employee_data.txt\" in \"read mode\" and store the return object in a variable named \"file\""
      ]
    },
    {
      "cell_type": "code",
      "execution_count": null,
      "metadata": {
        "id": "2gnofDsqK2iW"
      },
      "outputs": [],
      "source": []
    },
    {
      "cell_type": "code",
      "execution_count": null,
      "metadata": {
        "id": "BJQfPeGYMHOm"
      },
      "outputs": [],
      "source": [
        "# try to use print(file) and see if the content of the file is printed to the screen."
      ]
    },
    {
      "cell_type": "code",
      "execution_count": null,
      "metadata": {
        "colab": {
          "base_uri": "https://localhost:8080/"
        },
        "id": "xNEh1f9WNRr0",
        "outputId": "4e4887bf-037a-4491-9a80-467460bb20ee"
      },
      "outputs": [
        {
          "name": "stdout",
          "output_type": "stream",
          "text": [
            "<_io.TextIOWrapper name='employee_data.txt' mode='r' encoding='UTF-8'>\n"
          ]
        }
      ],
      "source": []
    },
    {
      "cell_type": "code",
      "execution_count": null,
      "metadata": {
        "id": "p80svvpDNS7q"
      },
      "outputs": [],
      "source": [
        "# When you use the print function to display the contents of a file object, you're actually printing a string representation\n",
        "# of the object, not its contents. To see the contents of a file, you need to use one of the following read methods to get the desired content\n",
        "\n",
        "# Read the entire contents of the file as a single string\n",
        "# contents = file.read()\n",
        "\n",
        "# Read the entire contents of the file as a list of strings\n",
        "# contents = file.readlines()\n",
        "\n",
        "# Read each line of the file one by one\n",
        "# line = file.readline()\n",
        "# while line:\n",
        "    # print(\"Using readline():\\n\", line)\n",
        "    # line = file.readline()"
      ]
    },
    {
      "cell_type": "code",
      "execution_count": null,
      "metadata": {
        "id": "gTe9HyhuNTkW"
      },
      "outputs": [],
      "source": [
        "# Add a script to\n",
        "# 1. open the file in read mode\n",
        "# 2. use a read method of your choice to read and print the file content\n",
        "# 3. close the file"
      ]
    },
    {
      "cell_type": "code",
      "execution_count": null,
      "metadata": {
        "colab": {
          "base_uri": "https://localhost:8080/"
        },
        "id": "RtrMG-rGO5TX",
        "outputId": "5b85a626-c6ad-4701-c066-57489d52686d"
      },
      "outputs": [
        {
          "name": "stdout",
          "output_type": "stream",
          "text": [
            "Employee ID,Employee Name,Employee Type,Hours Worked,Hourly Rate,Location,Salary\n",
            "1, John Doe, full-time, 40, 25, AB, 0\n",
            "2, Jane Doe, part-time, 20, 20, ON, 0\n",
            "3, Bob Smith, full-time, 35, 30, ON, 0\n",
            "\n"
          ]
        }
      ],
      "source": [
        "# Using read()"
      ]
    },
    {
      "cell_type": "code",
      "execution_count": null,
      "metadata": {
        "id": "llQ20aReZp41"
      },
      "outputs": [],
      "source": []
    },
    {
      "cell_type": "code",
      "execution_count": null,
      "metadata": {
        "colab": {
          "base_uri": "https://localhost:8080/"
        },
        "id": "aK5og2BoO5I_",
        "outputId": "cbf5690b-c1f5-4f07-8189-eb3d8a5e54bb"
      },
      "outputs": [
        {
          "name": "stdout",
          "output_type": "stream",
          "text": [
            "['Employee ID,Employee Name,Employee Type,Hours Worked,Hourly Rate,Location,Salary\\n', '1, John Doe, full-time, 40, 25, AB, 0\\n', '2, Jane Doe, part-time, 20, 20, ON, 0\\n', '3, Bob Smith, full-time, 35, 30, ON, 0\\n']\n"
          ]
        }
      ],
      "source": [
        "# Using readlines() - this will return a python list of employees instead of string.\n",
        "# Please be careful to add extra logic to split the data properly if you intend to use the return list as an input for other functions.\n",
        "# Create more job for sanitizing the data."
      ]
    },
    {
      "cell_type": "code",
      "execution_count": null,
      "metadata": {
        "id": "eJEYWd17Zqnx"
      },
      "outputs": [],
      "source": []
    },
    {
      "cell_type": "code",
      "execution_count": null,
      "metadata": {
        "colab": {
          "base_uri": "https://localhost:8080/"
        },
        "id": "1abNi0vzO4x3",
        "outputId": "f8157bac-ac24-4feb-f44a-3a0171bbafd9"
      },
      "outputs": [
        {
          "name": "stdout",
          "output_type": "stream",
          "text": [
            "Employee ID,Employee Name,Employee Type,Hours Worked,Hourly Rate,Location,Salary\n",
            "\n",
            "1, John Doe, full-time, 40, 25, AB, 0\n",
            "\n",
            "2, Jane Doe, part-time, 20, 20, ON, 0\n",
            "\n",
            "3, Bob Smith, full-time, 35, 30, ON, 0\n",
            "\n",
            "\n"
          ]
        }
      ],
      "source": [
        "# Using readline()"
      ]
    },
    {
      "cell_type": "code",
      "execution_count": null,
      "metadata": {
        "id": "gCRt0pBnZsTc"
      },
      "outputs": [],
      "source": []
    }
  ],
  "metadata": {
    "colab": {
      "provenance": []
    },
    "kernelspec": {
      "display_name": "Python 3",
      "name": "python3"
    },
    "language_info": {
      "name": "python"
    }
  },
  "nbformat": 4,
  "nbformat_minor": 0
}
