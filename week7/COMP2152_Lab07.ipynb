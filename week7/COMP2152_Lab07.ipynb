{
  "cells": [
    {
      "attachments": {},
      "cell_type": "markdown",
      "metadata": {
        "id": "0iPDBL-PrCec"
      },
      "source": [
        "# Review\n",
        "In this exercise we will review the following topics from the first half of the semester:\n",
        "1.   Python data types and operations\n",
        "2.   List & Dictionary\n",
        "3.   For loop\n",
        "4.   If-else statement\n",
        "5.   Python function\n",
        "6.   Read and write to file\n",
        "\n"
      ]
    },
    {
      "cell_type": "code",
      "execution_count": null,
      "metadata": {},
      "outputs": [],
      "source": [
        "#Add your name and student ID here:\n",
        "#Maziar Sojoudian 10112131"
      ]
    },
    {
      "cell_type": "code",
      "execution_count": 117,
      "metadata": {
        "id": "F2SKTR2bqdlP"
      },
      "outputs": [],
      "source": [
        "# Functions declaration starts here ========>"
      ]
    },
    {
      "cell_type": "code",
      "execution_count": 118,
      "metadata": {
        "id": "LLw0yoD0r267"
      },
      "outputs": [],
      "source": [
        "# Instruction for read_data() function\n",
        "# create a function named read_data() taking the \"file_name\" as a parameter to read the content from the file and store the students' name and scores in a list\n",
        "# function name: read_data()\n",
        "# function parameter: file_name\n",
        "# function body: \n",
        "#   use with open() in read mode \n",
        "#   use readlines() read the content from file and store the content in a variable named lines\n",
        "#   use a for loop to iterate each line in lines\n",
        "#     use split() to separate each line into name and score\n",
        "#     append name and score to students list, please make sure to cast score to int data type before adding to the list\n",
        "#   returns students list"
      ]
    },
    {
      "cell_type": "code",
      "execution_count": 119,
      "metadata": {
        "id": "rjj6hKlTr234"
      },
      "outputs": [],
      "source": []
    },
    {
      "cell_type": "code",
      "execution_count": 120,
      "metadata": {
        "id": "eBq7ha72r20z"
      },
      "outputs": [],
      "source": [
        "# Instruction for calculate_average_score function\n",
        "# create a function named calculate_average_score() taking the \"students\" list as a parameter and calculate the average score of all students in student list\n",
        "# function name: calculate_average_score()\n",
        "# function parameter: students\n",
        "# function body: \n",
        "#  use a for loop to iterate through every student in students and calculate the total score of all students (hint: score can be access using index 1 e.g. student[1])\n",
        "#  calculate the avarage by dividing the sum by the total number of students (hint: use len() to get the total numbers of students)\n",
        "#  return average score"
      ]
    },
    {
      "cell_type": "code",
      "execution_count": 121,
      "metadata": {
        "id": "SiPBRAiQr2xz"
      },
      "outputs": [],
      "source": []
    },
    {
      "cell_type": "code",
      "execution_count": 128,
      "metadata": {
        "id": "BfuKivQO5IfW"
      },
      "outputs": [],
      "source": [
        "# Your main program starts here ===========>"
      ]
    },
    {
      "cell_type": "code",
      "execution_count": 129,
      "metadata": {
        "id": "j0rKiRO6r2dt"
      },
      "outputs": [],
      "source": [
        "# Make a function call to read_data(\"data.txt\") function to read data from \"data.txt\" and store the return data list a variable named \"students\""
      ]
    },
    {
      "cell_type": "code",
      "execution_count": 130,
      "metadata": {
        "id": "p0pE3Vpfr2a4"
      },
      "outputs": [],
      "source": []
    },
    {
      "cell_type": "code",
      "execution_count": 131,
      "metadata": {
        "id": "OKD4hrcBr2Xz"
      },
      "outputs": [],
      "source": [
        "# Make a function call to calculate_average_score(students) function to calculate the average score of the students lists passed into the function and store the return value in a variable named \"average\""
      ]
    },
    {
      "cell_type": "code",
      "execution_count": 132,
      "metadata": {
        "id": "H3I994iMr2VN"
      },
      "outputs": [],
      "source": []
    },
    {
      "cell_type": "code",
      "execution_count": 133,
      "metadata": {
        "id": "qdexnnhZ5vYz"
      },
      "outputs": [],
      "source": [
        "# print the average"
      ]
    },
    {
      "cell_type": "code",
      "execution_count": 134,
      "metadata": {
        "colab": {
          "base_uri": "https://localhost:8080/"
        },
        "id": "ygAVvn1Zr2Sg",
        "outputId": "31261f02-6c29-4329-b716-26320321eac5"
      },
      "outputs": [
        {
          "data": {
            "text/plain": [
              "71.42857142857143"
            ]
          },
          "execution_count": 134,
          "metadata": {},
          "output_type": "execute_result"
        }
      ],
      "source": []
    },
    {
      "cell_type": "code",
      "execution_count": null,
      "metadata": {},
      "outputs": [],
      "source": [
        "#Write a program that asks the user to input a number between 1 and 10. \n",
        "#The program should then print the square of that number. \n",
        "#However, if the user enters a number outside of the range or a non-numeric value, the program should print an error message and ask the user to try again."
      ]
    },
    {
      "cell_type": "code",
      "execution_count": null,
      "metadata": {},
      "outputs": [],
      "source": [
        "#Expected output:\n",
        "#Enter a number between 1 and 10: 0\n",
        "#Error: Invalid input. Please enter a number between 1 and 10.\n",
        "#Enter a number between 1 and 10: abc\n",
        "#Error: Invalid input. Please enter a number between 1 and 10.\n",
        "#Enter a number between 1 and 10: 5\n",
        "#The square of 5 is 25\n",
        "#"
      ]
    }
  ],
  "metadata": {
    "colab": {
      "provenance": []
    },
    "kernelspec": {
      "display_name": "Python 3",
      "name": "python3"
    },
    "language_info": {
      "name": "python"
    }
  },
  "nbformat": 4,
  "nbformat_minor": 0
}
