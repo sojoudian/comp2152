{
  "cells": [
    {
      "attachments": {},
      "cell_type": "markdown",
      "metadata": {
        "id": "0iPDBL-PrCec"
      },
      "source": [
        "# Review\n",
        "In this exercise we will review the following topics from the first half of the semester:\n",
        "1.   Python data types and operations\n",
        "2.   List & Dictionary\n",
        "3.   For loop\n",
        "4.   If-else statement\n",
        "5.   Python function\n",
        "6.   Read and write to file\n",
        "\n"
      ]
    },
    {
      "cell_type": "markdown",
      "metadata": {
        "id": "dA_ciuQtqM9Z"
      },
      "source": [
        "You are given a text file \"data.txt\" that contains a list of students and their exam scores, in the following format:\n",
        "\n",
        "![data.PNG](data:image/png;base64,iVBORw0KGgoAAAANSUhEUgAAANMAAACJCAYAAAC2Eg1IAAAAAXNSR0IArs4c6QAAAARnQU1BAACxjwv8YQUAAAAJcEhZcwAADsMAAA7DAcdvqGQAAAqmSURBVHhe7Z2BkaM6EkAnrXNATudPNJPMJrG1CfhQS4JuSSAwzRjs96p0N0ZGwr/60Q2I2q8HwFvx87h//e/x35/08RdBJngzkAng8nz9+/fvQaPR9revv3//Pmg02v42lnlfX1R8AHtAJgAnkAnACWQCcMLI9Of7Jv8/tdvje/X9+j+P79vX4/6TPr6E8Ixh+fh/7qr/9j0cNYAP85npz/fjdimZ4vw3dcByclDCiEjj5/j9r9faD2/EG8kUs5KZ/+c+/K770CMfhv7i90j/lt8IMM9GmdLZPJRI0nKgBrJM+jt6/9yvSzHfQI5lah4zzjNmKiNWYDpOkhN4sEGmFHwq8mLw5gCtg7NZVqkxbb8TIo09DiFsz3PJb5vERybwYL1M8lmf2QO6tGoEpg7gbv9+TGZKUpnMNMz1Y7IXMoEf62WS4Cxl0sH4apnmrpmsXHa+xj4AT7JTphNlpvJ4A3qb/F3ML9vK3wTwHEamn+8psMvbylkcfc3UuibaL1OaZ3OQzxyfGodb43AkNjOls7eUQ81gzoGemhHBS6YU5MP42+O8OL7qN0xjS0MkcGS+zHsh9hY3wDU4oUwpe1QZC+DcnEumUPZRfsFFOWFmArgmGATgBDIBOIFMAE4gE4ATDZnyg83rPeeJz6fSA9nU9MuCgbgqIjVuv4MjtUxhFcQQZN9D0JWBeHZEpoXb6iwngiOpZAoBKRI1l/qcm2WZwlKjItvKcy1WWoAPhUzxbC3xqFdcC7lPr3/b0h8xZZbziu1FmUQcPV8uZ59ZAwhQY2UyryTEYJtKvRx8kyDNsmm2Pwx/M4Fb9u9FZBpFLcbWmTYt6OVNW/DEyFSe2eVzIYsJPFMK9vob9Pp3kTJkHj/NxZu2cBRKphhY5qZDCMAiU+2Sybzi0cge3ujjl7/L+aJwyAQeTDK1Aj21GGx7ZYqBW8l6oEyx7EsyjaWddEVMWQuwj1EmW9JNyHWNRKC3TEUZNpK27w3yJI+Wt3mNZw4Y4HlGmUKgmayRCUJIYO+VKcR3yBRBlNCG65Zv2x9JQT58Z2uciyzj+K39p7GlIRI4Ym5AnIUoXX1bHeDMnFCmlD2qjAVwbs4lk5SUlF9wTU5Z5gFcEWQCcAKZAJxAJgAnkAnACSOTfaga2js+68kPbtsrLMyD38bt+V4/fC7zmUmW47yZTHLrPa28aMjUW27U64fP5oNkCmv+kkDjEilN6C9+b5ZPtvX64dPZLJNd/6YCMgTWcJbO/dO/bWvH6JVJdvzt6/NW0ZKp2paPPx1Drx8+nk0yhWsqHTim7JFgi4tl87VXFiovoJXvqwHM/gOyX0Mwd+ZkynOnFefmTdxeP3w8+8o8HWAqQCcptEyNMqmYI0rYmdODBZlm38Tt9cPHs02mdEYOWWdsa2Vq7SvNzpGzmrQ8tjdzMlVzxnerRpmW+uHj2SBTDBzzzlM6W8uWVTIVci4S9z3kbllLpiS7mU62pe/1+uHjMTKt+TdtJ5ni59Uypb+3yFFeY0XSvHuCuCXTgL2Gq4+31w+fjc1M6ewby6w62EwJFrKMflO2K1MgBeA4xtDG4EzBOtM3MY2xLY4bc0vT2bL4TjVBrx8+mfky78REqbeUjADHc0GZUnZoZi2A13EtmaSUpLyCc3LJMg/gjCATgBPIBOAEMgE4gUwATkwypTtl5kZZa9v44LJ8qBu3m+VGv07/oap5MMztdXCkkkkHYA48K8hZZSrnr4+H5UBwJFam+/0xvo06/O99CLz1/1D0i2VqLTqVE4T6PeWqCelnJQX4MMokS3SGs3Q4e8vJegi0IEb4nAWxa/N6mSmd+YtgPazMMuIkRLA0f9Wfj2/rGj+ANpVMEnQiVQxCLdNIK3CNTClQC1lEJBW58tlNqHJVeyFzOOY81/g6RfwOMoEHtUwhKG9DuXePgTdtVyzK9BODuIrQRpmlM4cHZtX7MO5PkZkGmXhTFo5ilElnIP33VplyCVcFqAl03RxlKtHHKX8P85lMGLMZMoEHTZk02zPTMIb0F5J4Z6EVmLJyLO3iR0G2lb8D4DnWyVRe1/RkCp9MORVImaubBmK2qMffhohUjCHbxt+y9ngA1rFBJlvG1WWalSkQA1png8YYpajqO1vjPM8nrblzMT8igSOjTGeizmoA5+eEMqXsUWUsgHNzLpnyHTfKL7ggpyzzAK4IMgE4gUwATiATgBPIBOBEIVP9ULX1IPeUzK79sw9/zYNdbr+DI0qmJNI73ZYu1gOynAiOZJKptRD04og84w9qvALSWpAL8CQqM6UFpp3Sx5RJxULScYV5fvg6tLJMXNrflfLkUC3OnUpakhN4YK+Z9HVHI8KCLHqzLZuSTGHfvK0os3r7eyLHoscOMpnjChJFoZAJPChuQCRUZlkMNB2gA1EmffbvvHxX7O9HY940F2/awlG0ZUpUcujMlVsp01Jkdvb3ospKgXyCMNs7sgNsYFGmGID5LB4Dz1wDtTLTfBrq7u9DY57AWNqlzwHZduB1G3wUizLZa5oySOPn52Wq94+k7c8GuZwA2vva38OtcfBlkmlFCRbLvtw/ZCz9b9rm/oXg7O0f2XOXrRS2ZBpbGiKBI8tl3ouI0k13AQGuwAllStmjylgA5+ZcMuU7bpRfcEFOWeYBXBFkAnACmQCcQCYAJ5AJwAklU/FAU9qWVQhx/+NvxNnj1A9o7UPhuh/gSCqZtAzbXpH4DZmWVzj0VmAAHMmiTPLc50QyidwLEyATvJIFmeJnmwXitqmM0mVg3t9+xy+2y+OrQSZ4JcvXTCYrpX4VrPEaJQs17Z+/Yvv3Ekq8W/qnNfMx2vV7cb7cNzSWJMEvsv6aqfnuT7yGifu0MkcSwCOi86p2JciyrPHYEAp+i+VrJgngJEPzPSG9z5xM5bZnaYnZGX/h3SYAb3bKpIO5s/9uWuK0BJvwLTMBlllf5qVg1tdMrTdXq/1t9A+kcZ4IcpFDlW12/oJUFvKcCX6L5RsQsyKkZgJ5zf6B6XvN7g4iUB6/EMn0PTk+wLMomX6PWH55lX8A5+AFMqXMNFeeAVyU35WJN2nhjXlJmQfwjiATgBPIBOAEMgE4gUwAThQy1Q9eP3MFQf7vYJ+FVavSP/a/D7RQMqUA6ty2Lpf0vCPxN96qdYWyndv6MMMkU1rL1ouV95cpL56tF9EiEyyhMlNadzcjigSSKm+mZgNubu1c3L+96lyXSvNr72LmvP/o9YF2bg9kfhEGmWAb9popZScJ1JmgWcpMUyBG5PP43SiBGbZ4rWN5//o6xvY7IL8/H8+MTKPIznPD5SluQCTysp8y+AfmZaqDLwbntK08s1t5evvnzCQ9kXCcbgEdx5+yZON4DPHkgFCQacuUiGdiW5rNyqSzmmkqIJfO/N39D5apGqsn00CRWeGzWZQpBosNqGWZOsGnhSiDt7v/sTJJlmzKPLSZOVonG/hcFmVqXpM0BIvEYJ+71hoJ+w/fCWPbr/b2XytTKr92B3knM6VMynMmyEwytcqsmTOyPYvrgEtCLI6xFOxL+6+VaRpj1stV1DKV2Wvf+PBuLJd5FyWWX0slI4A/byhTykwzWRXgKN5LJrmeG0Si/oIX8JZlHsArQCYAJ5AJwAlkAnACmQCcQCYAJ5AJwIXH4/83sJQWX6CfWAAAAABJRU5ErkJggg==)\n",
        "\n"
      ]
    },
    {
      "cell_type": "markdown",
      "metadata": {
        "id": "fuFzaH7WqkU1"
      },
      "source": [
        "Write a Python program that reads in the data from the file and performs the following tasks:\n",
        "\n",
        "*   Calculate the average score of all students.\n",
        "*   Create a new file \"passed.txt\" that contains the name and score of all students who scored 70 or above.\n",
        "*   Create a new file \"failed.txt\" that contains the name and score of all students who scored below 70.\n",
        "*   Create a function that takes a name and returns the student's score. If the name is not found, the function should return \"-1\".\n",
        "\n",
        "The solution must implements the following requirements:\n",
        "*   Use the split() method to separate each line into name and score.\n",
        "*   Use a list to store the names and scores of all students.\n",
        "*   Use a dictionary to store the names and scores of only the passing or failing students.\n",
        "*   Use a for loop to iterate over the list of students and calculate the average score\n",
        "*   Use if-else statements to determine which file to write each student's information to.\n",
        "*   Use functions to modularize your code and make it easier to read and debug.\n",
        "\n",
        "\n",
        "\n",
        "\n",
        "\n"
      ]
    },
    {
      "cell_type": "code",
      "execution_count": 117,
      "metadata": {
        "id": "F2SKTR2bqdlP"
      },
      "outputs": [],
      "source": [
        "# Functions declaration starts here ========>"
      ]
    },
    {
      "cell_type": "code",
      "execution_count": 118,
      "metadata": {
        "id": "LLw0yoD0r267"
      },
      "outputs": [],
      "source": [
        "# Instruction for read_data() function\n",
        "# create a function named read_data() taking the \"file_name\" as a parameter to read the content from the file and store the students' name and scores in a list\n",
        "# function name: read_data()\n",
        "# function parameter: file_name\n",
        "# function body: \n",
        "#   use with open() in read mode \n",
        "#   use readlines() read the content from file and store the content in a variable named lines\n",
        "#   use a for loop to iterate each line in lines\n",
        "#     use split() to separate each line into name and score\n",
        "#     append name and score to students list, please make sure to cast score to int data type before adding to the list\n",
        "#   returns students list"
      ]
    },
    {
      "cell_type": "code",
      "execution_count": 119,
      "metadata": {
        "id": "rjj6hKlTr234"
      },
      "outputs": [],
      "source": []
    },
    {
      "cell_type": "code",
      "execution_count": 120,
      "metadata": {
        "id": "eBq7ha72r20z"
      },
      "outputs": [],
      "source": [
        "# Instruction for calculate_average_score function\n",
        "# create a function named calculate_average_score() taking the \"students\" list as a parameter and calculate the average score of all students in student list\n",
        "# function name: calculate_average_score()\n",
        "# function parameter: students\n",
        "# function body: \n",
        "#  use a for loop to iterate through every student in students and calculate the total score of all students (hint: score can be access using index 1 e.g. student[1])\n",
        "#  calculate the avarage by dividing the sum by the total number of students (hint: use len() to get the total numbers of students)\n",
        "#  return average score"
      ]
    },
    {
      "cell_type": "code",
      "execution_count": 121,
      "metadata": {
        "id": "SiPBRAiQr2xz"
      },
      "outputs": [],
      "source": []
    },
    {
      "cell_type": "code",
      "execution_count": 128,
      "metadata": {
        "id": "BfuKivQO5IfW"
      },
      "outputs": [],
      "source": [
        "# Your main program starts here ===========>"
      ]
    },
    {
      "cell_type": "code",
      "execution_count": 129,
      "metadata": {
        "id": "j0rKiRO6r2dt"
      },
      "outputs": [],
      "source": [
        "# Make a function call to read_data(\"data.txt\") function to read data from \"data.txt\" and store the return data list a variable named \"students\""
      ]
    },
    {
      "cell_type": "code",
      "execution_count": 130,
      "metadata": {
        "id": "p0pE3Vpfr2a4"
      },
      "outputs": [],
      "source": []
    },
    {
      "cell_type": "code",
      "execution_count": 131,
      "metadata": {
        "id": "OKD4hrcBr2Xz"
      },
      "outputs": [],
      "source": [
        "# Make a function call to calculate_average_score(students) function to calculate the average score of the students lists passed into the function and store the return value in a variable named \"average\""
      ]
    },
    {
      "cell_type": "code",
      "execution_count": 132,
      "metadata": {
        "id": "H3I994iMr2VN"
      },
      "outputs": [],
      "source": []
    },
    {
      "cell_type": "code",
      "execution_count": 133,
      "metadata": {
        "id": "qdexnnhZ5vYz"
      },
      "outputs": [],
      "source": [
        "# print the average"
      ]
    },
    {
      "cell_type": "code",
      "execution_count": 134,
      "metadata": {
        "colab": {
          "base_uri": "https://localhost:8080/"
        },
        "id": "ygAVvn1Zr2Sg",
        "outputId": "31261f02-6c29-4329-b716-26320321eac5"
      },
      "outputs": [
        {
          "data": {
            "text/plain": [
              "71.42857142857143"
            ]
          },
          "execution_count": 134,
          "metadata": {},
          "output_type": "execute_result"
        }
      ],
      "source": []
    },
    {
      "cell_type": "code",
      "execution_count": null,
      "metadata": {},
      "outputs": [],
      "source": [
        "#Write a program that asks the user to input a number between 1 and 10. \n",
        "#The program should then print the square of that number. \n",
        "#However, if the user enters a number outside of the range or a non-numeric value, the program should print an error message and ask the user to try again."
      ]
    },
    {
      "cell_type": "code",
      "execution_count": null,
      "metadata": {},
      "outputs": [],
      "source": [
        "#Expected output:\n",
        "#Enter a number between 1 and 10: 0\n",
        "#Error: Invalid input. Please enter a number between 1 and 10.\n",
        "#Enter a number between 1 and 10: abc\n",
        "#Error: Invalid input. Please enter a number between 1 and 10.\n",
        "#Enter a number between 1 and 10: 5\n",
        "#The square of 5 is 25\n",
        "#"
      ]
    }
  ],
  "metadata": {
    "colab": {
      "provenance": []
    },
    "kernelspec": {
      "display_name": "Python 3",
      "name": "python3"
    },
    "language_info": {
      "name": "python"
    }
  },
  "nbformat": 4,
  "nbformat_minor": 0
}
