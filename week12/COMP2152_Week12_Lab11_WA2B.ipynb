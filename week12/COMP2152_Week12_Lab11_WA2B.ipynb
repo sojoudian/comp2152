{
  "cells": [
    {
      "cell_type": "markdown",
      "metadata": {
        "id": "3Fd6PTTs1N-h"
      },
      "source": [
        "Create the following classes:\n",
        "\n",
        "\n",
        "*   'Vehicle' class is the base class that includes common properties and methods for all vehicles, such as make, model, year, and start_engine().\n",
        "*   The 'Car' and 'Motorcycle' classes are subclasses that inherit from the Vehicle'' class and add their own unique properties and methods, such as num_doors and num_wheels. \n",
        "*   Each subclass also overrides the start() and stop() method to provide its own implementation.\n",
        "\n"
      ]
    },
    {
      "cell_type": "markdown",
      "metadata": {
        "id": "kcQcCW_q4he4"
      },
      "source": [
        "# Vehicle Class"
      ]
    },
    {
      "cell_type": "code",
      "execution_count": null,
      "metadata": {},
      "outputs": [],
      "source": [
        "#Add your name and student ID here"
      ]
    },
    {
      "cell_type": "code",
      "execution_count": 354,
      "metadata": {
        "id": "fKAocU0p11W2"
      },
      "outputs": [],
      "source": [
        "# define Vehicle class with 3 private properties: make, model, year, is_started \n",
        "# set the default value = 'False' for 'is_started' "
      ]
    },
    {
      "cell_type": "code",
      "execution_count": 355,
      "metadata": {
        "id": "TDSIibwJ1NXU"
      },
      "outputs": [],
      "source": [
        "class Vehicle:\n",
        "    def __init__(self, make, model, year):\n",
        "        self._make = make\n",
        "        self._model = model\n",
        "        self._year = year\n",
        "        self._is_started = False"
      ]
    },
    {
      "cell_type": "code",
      "execution_count": 356,
      "metadata": {
        "id": "by_LD8ht1_7J"
      },
      "outputs": [],
      "source": [
        "# Add methods to get and set the value of the 'make' property.\n",
        "# Use appropriate decorators for get and set method: @property and @accessor_property_name.setter"
      ]
    },
    {
      "cell_type": "code",
      "execution_count": 357,
      "metadata": {
        "id": "3ClLjotu1Te7"
      },
      "outputs": [],
      "source": [
        "class Vehicle:\n",
        "    def __init__(self, make, model, year):\n",
        "        self._make = make\n",
        "        self._model = model\n",
        "        self._year = year\n",
        "        self._is_started = False\n",
        "\n",
        "    @property\n",
        "    def make(self):\n",
        "        return self._make\n",
        "\n",
        "    @make.setter\n",
        "    def make(self, value):\n",
        "        self._make = value"
      ]
    },
    {
      "cell_type": "code",
      "execution_count": 358,
      "metadata": {
        "id": "kECYmCPI2j9H"
      },
      "outputs": [],
      "source": [
        "# Similarly, add get/set methods for 'model' and 'year' property.\n",
        "# Use appropriate decorators."
      ]
    },
    {
      "cell_type": "code",
      "execution_count": 359,
      "metadata": {
        "id": "GBjoyhBF2dEG"
      },
      "outputs": [],
      "source": [
        "class Vehicle:\n",
        "    def __init__(self, make, model, year):\n",
        "        self._make = make\n",
        "        self._model = model\n",
        "        self._year = year\n",
        "        self._is_started = False\n",
        "\n",
        "    @property\n",
        "    def make(self):\n",
        "        return self._make\n",
        "\n",
        "    @make.setter\n",
        "    def make(self, value):\n",
        "        self._make = value\n",
        "\n",
        "    @property\n",
        "    def model(self):\n",
        "        return self._model\n",
        "\n",
        "    @model.setter\n",
        "    def model(self, value):\n",
        "        self._model = value\n",
        "\n",
        "    @property\n",
        "    def year(self):\n",
        "        return self._year\n",
        "\n",
        "    @year.setter\n",
        "    def year(self, value):\n",
        "        self._year = value"
      ]
    },
    {
      "cell_type": "code",
      "execution_count": 360,
      "metadata": {
        "id": "MySWphUF59FN"
      },
      "outputs": [],
      "source": [
        "# Add __str__ method to print the vehicle information: make, model and year."
      ]
    },
    {
      "cell_type": "code",
      "execution_count": 361,
      "metadata": {
        "id": "xFpfX2yG6ARU"
      },
      "outputs": [],
      "source": []
    },
    {
      "cell_type": "code",
      "execution_count": 362,
      "metadata": {
        "id": "52youSn42dA4"
      },
      "outputs": [],
      "source": [
        "# Add start and stop methods for the Vehicle class that simply print out messages indicating that the vehicle has started or stopped. \n",
        "# The methods should check if the vehicle is already started, or stopped and print the message accordingly."
      ]
    },
    {
      "cell_type": "code",
      "execution_count": 363,
      "metadata": {
        "id": "PC0aEQ_z2c94"
      },
      "outputs": [],
      "source": []
    },
    {
      "cell_type": "code",
      "execution_count": 364,
      "metadata": {
        "id": "DlOs9-yO6pHH"
      },
      "outputs": [],
      "source": [
        "# Test the vehicle class by create two vehicles of your choice"
      ]
    },
    {
      "cell_type": "code",
      "execution_count": 365,
      "metadata": {
        "id": "802mo3VC2c7O"
      },
      "outputs": [],
      "source": [
        "vehicle1 = Vehicle(\"Honda\", \"Civic\", 2022)\n",
        "vehicle2 = Vehicle(\"Toyota\", \"Corolla\", 2022)"
      ]
    },
    {
      "cell_type": "code",
      "execution_count": 366,
      "metadata": {
        "id": "jrUnCAWv6q2g"
      },
      "outputs": [],
      "source": [
        "# Print the information of one vehicle of your choice"
      ]
    },
    {
      "cell_type": "code",
      "execution_count": 367,
      "metadata": {
        "colab": {
          "base_uri": "https://localhost:8080/"
        },
        "id": "l9l3gsC22c4I",
        "outputId": "db4c0ac8-052e-4dfb-f058-ee4c5ea65334"
      },
      "outputs": [
        {
          "name": "stdout",
          "output_type": "stream",
          "text": [
            "2022 Honda Civic\n"
          ]
        }
      ],
      "source": [
        "print(vehicle1)"
      ]
    },
    {
      "cell_type": "code",
      "execution_count": 368,
      "metadata": {
        "id": "vKsu2N5Y9qAC"
      },
      "outputs": [],
      "source": [
        "# Start the vehicle of your choice"
      ]
    },
    {
      "cell_type": "code",
      "execution_count": 369,
      "metadata": {
        "colab": {
          "base_uri": "https://localhost:8080/"
        },
        "id": "C5QcFaPF9syH",
        "outputId": "27892cec-0e42-48f2-d9c7-335ed61feeb9"
      },
      "outputs": [
        {
          "name": "stdout",
          "output_type": "stream",
          "text": [
            "Starting the vehicle...\n"
          ]
        }
      ],
      "source": [
        "vehicle1.start()"
      ]
    },
    {
      "cell_type": "code",
      "execution_count": 370,
      "metadata": {
        "id": "pxqPYcwV-Hpi"
      },
      "outputs": [],
      "source": [
        "# Start the vehicle again"
      ]
    },
    {
      "cell_type": "code",
      "execution_count": 371,
      "metadata": {
        "colab": {
          "base_uri": "https://localhost:8080/"
        },
        "id": "iEzDCAEL-JwK",
        "outputId": "b7656440-ae30-4a96-fa09-ddadc2e6187e"
      },
      "outputs": [
        {
          "name": "stdout",
          "output_type": "stream",
          "text": [
            "Vehicle is already started.\n"
          ]
        }
      ],
      "source": [
        "vehicle1.start()"
      ]
    },
    {
      "cell_type": "code",
      "execution_count": 372,
      "metadata": {
        "id": "wyGxxUk8-LEr"
      },
      "outputs": [],
      "source": [
        "# Stop the vehicle"
      ]
    },
    {
      "cell_type": "code",
      "execution_count": 373,
      "metadata": {
        "colab": {
          "base_uri": "https://localhost:8080/"
        },
        "id": "sTwbdLGK-MoD",
        "outputId": "b85bf9d6-fe52-4196-aff6-1e036d8e6b2d"
      },
      "outputs": [
        {
          "name": "stdout",
          "output_type": "stream",
          "text": [
            "Stopping the vehicle...\n"
          ]
        }
      ],
      "source": [
        "vehicle1.stop()"
      ]
    },
    {
      "cell_type": "markdown",
      "metadata": {
        "id": "Zt8qegEE8_1j"
      },
      "source": [
        "# Car subclass"
      ]
    },
    {
      "cell_type": "code",
      "execution_count": 374,
      "metadata": {
        "id": "Hi1SwNN28-sv"
      },
      "outputs": [],
      "source": [
        "# Define Car class that inherit from the Vehicle class\n",
        "# Beside the properties inherit from Vehicle class, the Car has its own private property 'num_doors'\n",
        "# The __init__ method should take the following params: self, make, model, year, num_doors"
      ]
    },
    {
      "cell_type": "code",
      "execution_count": 375,
      "metadata": {
        "id": "m1tSHDoV2c1I"
      },
      "outputs": [],
      "source": [
        "class Car(Vehicle):\n",
        "    def __init__(self, make, model, year, num_doors):\n",
        "        super().__init__(make, model, year)\n",
        "        self._num_doors = num_doors"
      ]
    },
    {
      "cell_type": "code",
      "execution_count": 376,
      "metadata": {
        "id": "iuYZh1Be2czG"
      },
      "outputs": [],
      "source": [
        "# Add method to get and set num_doors "
      ]
    },
    {
      "cell_type": "code",
      "execution_count": 377,
      "metadata": {
        "id": "5iWMLFGI2cvE"
      },
      "outputs": [],
      "source": [
        "class Car(Vehicle):\n",
        "    def __init__(self, make, model, year, num_doors):\n",
        "        super().__init__(make, model, year)\n",
        "        self._num_doors = num_doors\n",
        "\n",
        "    @property\n",
        "    def num_doors(self):\n",
        "        return self._num_doors\n",
        "\n",
        "    @num_doors.setter\n",
        "    def num_doors(self, value):\n",
        "        self._num_doors = value"
      ]
    },
    {
      "cell_type": "code",
      "execution_count": 378,
      "metadata": {
        "id": "pAP61U6o2cmj"
      },
      "outputs": [],
      "source": [
        "# Override the start() method to print \"Starting the car...\" instead of \"Starting the vehicle...\""
      ]
    },
    {
      "cell_type": "code",
      "execution_count": 379,
      "metadata": {
        "id": "60N1kJ18_Y16"
      },
      "outputs": [],
      "source": []
    },
    {
      "cell_type": "code",
      "execution_count": 380,
      "metadata": {
        "id": "6zLhm4p5_h94"
      },
      "outputs": [],
      "source": [
        "# Override the stop() method to print \"Stopping the car...\" instead of \"Stopping the vehicle...\""
      ]
    },
    {
      "cell_type": "code",
      "execution_count": 381,
      "metadata": {
        "id": "9b8KuSSG_m3H"
      },
      "outputs": [],
      "source": []
    },
    {
      "cell_type": "code",
      "execution_count": 382,
      "metadata": {
        "id": "PO5h2Afb_5Vv"
      },
      "outputs": [],
      "source": [
        "# Test the vehicle class by create a car of your choice"
      ]
    },
    {
      "cell_type": "code",
      "execution_count": 383,
      "metadata": {
        "id": "4zhN2opI_9Mt"
      },
      "outputs": [],
      "source": [
        "car1 = Car(\"Toyota\", \"Corolla\", 2020, 4)"
      ]
    },
    {
      "cell_type": "code",
      "execution_count": 384,
      "metadata": {
        "id": "j4GRKW38AC7f"
      },
      "outputs": [],
      "source": [
        "# Print the car information. \n",
        "# Question: Are we calling the method of the car subclass or the vehicle class?"
      ]
    },
    {
      "cell_type": "code",
      "execution_count": 385,
      "metadata": {
        "colab": {
          "base_uri": "https://localhost:8080/"
        },
        "id": "21Ta5SJ6AFBJ",
        "outputId": "5892fedf-e4c2-4a97-ceb4-df97e8463cc8"
      },
      "outputs": [
        {
          "name": "stdout",
          "output_type": "stream",
          "text": [
            "2020 Toyota Corolla\n"
          ]
        }
      ],
      "source": [
        "print(car1)"
      ]
    },
    {
      "cell_type": "code",
      "execution_count": 386,
      "metadata": {
        "id": "I3mMtxFvDMwL"
      },
      "outputs": [],
      "source": [
        "# print the year of the car"
      ]
    },
    {
      "cell_type": "code",
      "execution_count": 387,
      "metadata": {
        "colab": {
          "base_uri": "https://localhost:8080/"
        },
        "id": "Nw19JHhZDO0D",
        "outputId": "27185fa6-d0a0-4ca9-dffe-0f0d661978ff"
      },
      "outputs": [
        {
          "name": "stdout",
          "output_type": "stream",
          "text": [
            "2020\n"
          ]
        }
      ],
      "source": [
        "print(car1.year)"
      ]
    },
    {
      "cell_type": "code",
      "execution_count": 388,
      "metadata": {
        "id": "nOYOVtIzAJTO"
      },
      "outputs": [],
      "source": [
        "# print the number of doors"
      ]
    },
    {
      "cell_type": "code",
      "execution_count": 389,
      "metadata": {
        "colab": {
          "base_uri": "https://localhost:8080/"
        },
        "id": "aqHa3FfQAOQR",
        "outputId": "ce7f9ddf-849f-4b03-c8cf-3b06ed84a119"
      },
      "outputs": [
        {
          "data": {
            "text/plain": [
              "4"
            ]
          },
          "execution_count": 389,
          "metadata": {},
          "output_type": "execute_result"
        }
      ],
      "source": [
        "car1.num_doors"
      ]
    },
    {
      "cell_type": "code",
      "execution_count": 390,
      "metadata": {
        "id": "ph92-QXsAPWy"
      },
      "outputs": [],
      "source": [
        "# Start the car.\n",
        "# Question: Are we calling a method of the car subclass or the vehicle class?"
      ]
    },
    {
      "cell_type": "code",
      "execution_count": 391,
      "metadata": {
        "colab": {
          "base_uri": "https://localhost:8080/"
        },
        "id": "dXckHoLwAafw",
        "outputId": "498e50d0-0023-434f-f74a-8f8d51b8e46d"
      },
      "outputs": [
        {
          "name": "stdout",
          "output_type": "stream",
          "text": [
            "Starting the car...\n"
          ]
        }
      ],
      "source": [
        "car1.start()"
      ]
    },
    {
      "cell_type": "markdown",
      "metadata": {
        "id": "3awe762KBBH-"
      },
      "source": [
        "# Exercise: \n",
        "Create Motocycle subclass that inherits from Vehicle\n",
        "\n",
        "*   Motorcycle subclass shall have its own private property \"num_wheels\"\n",
        "*   Motorcycle subclass shall have a method to get the number of wheels\n",
        "*   Motorcycle subclass shall have a method to set the number of wheels\n",
        "*   Motorcycle subclass shall have methods that override start() and stop() method of the Vehicle class, similarly to what we did in the Car subclass.\n",
        "\n"
      ]
    },
    {
      "cell_type": "code",
      "execution_count": 392,
      "metadata": {
        "id": "BVe00GGYCWs4"
      },
      "outputs": [],
      "source": [
        "# Define Motocycle class"
      ]
    },
    {
      "cell_type": "code",
      "execution_count": 393,
      "metadata": {
        "id": "BvCtjMywBAt9"
      },
      "outputs": [],
      "source": []
    },
    {
      "cell_type": "code",
      "execution_count": 394,
      "metadata": {
        "id": "yDd109yKCWJK"
      },
      "outputs": [],
      "source": [
        "# Add a motocycle of your choice"
      ]
    },
    {
      "cell_type": "code",
      "execution_count": 395,
      "metadata": {
        "id": "iEZcImw0Cb96"
      },
      "outputs": [],
      "source": [
        "motorcycle1 = Motorcycle(\"Harley-Davidson\", \"Street Glide\", 2021, 2)"
      ]
    },
    {
      "cell_type": "code",
      "execution_count": 396,
      "metadata": {
        "id": "WH7kInN6Ccdq"
      },
      "outputs": [],
      "source": [
        "# Print motocycle information"
      ]
    },
    {
      "cell_type": "code",
      "execution_count": 397,
      "metadata": {
        "colab": {
          "base_uri": "https://localhost:8080/"
        },
        "id": "mcI_QxXGCd5i",
        "outputId": "e924543d-f2ba-440b-f78f-a88c858a666c"
      },
      "outputs": [
        {
          "name": "stdout",
          "output_type": "stream",
          "text": [
            "2021 Harley-Davidson Street Glide\n"
          ]
        }
      ],
      "source": [
        "print(motorcycle1)"
      ]
    },
    {
      "cell_type": "code",
      "execution_count": 398,
      "metadata": {
        "id": "miIawzXXCjWc"
      },
      "outputs": [],
      "source": [
        "# Get the make of motocycle"
      ]
    },
    {
      "cell_type": "code",
      "execution_count": 399,
      "metadata": {
        "colab": {
          "base_uri": "https://localhost:8080/"
        },
        "id": "Rf_Q8Za-CfVQ",
        "outputId": "fcf89a98-9012-41dc-8d92-0778250c1427"
      },
      "outputs": [
        {
          "name": "stdout",
          "output_type": "stream",
          "text": [
            "Harley-Davidson\n"
          ]
        }
      ],
      "source": [
        "print(motorcycle1.make) "
      ]
    },
    {
      "cell_type": "code",
      "execution_count": 400,
      "metadata": {
        "id": "tGD8LidVCmCD"
      },
      "outputs": [],
      "source": [
        "# Get the number of wheels"
      ]
    },
    {
      "cell_type": "code",
      "execution_count": 402,
      "metadata": {
        "colab": {
          "base_uri": "https://localhost:8080/"
        },
        "id": "iPiLk9QXDJro",
        "outputId": "300d8511-3377-4d6a-cbc3-6c45f8e42a0d"
      },
      "outputs": [
        {
          "name": "stdout",
          "output_type": "stream",
          "text": [
            "2\n"
          ]
        }
      ],
      "source": [
        "print(motorcycle1.num_wheels)"
      ]
    },
    {
      "cell_type": "code",
      "execution_count": 403,
      "metadata": {
        "id": "60FkTjC2DLW9"
      },
      "outputs": [],
      "source": [
        "# Stop the motocycle"
      ]
    },
    {
      "cell_type": "code",
      "execution_count": 404,
      "metadata": {
        "colab": {
          "base_uri": "https://localhost:8080/"
        },
        "id": "5BSh25-ZDWLa",
        "outputId": "9c0f65dc-8db6-4d73-d3e5-c047768214d4"
      },
      "outputs": [
        {
          "name": "stdout",
          "output_type": "stream",
          "text": [
            "Motocycle is already stopped.\n"
          ]
        }
      ],
      "source": [
        "motorcycle1.stop()"
      ]
    }
  ],
  "metadata": {
    "colab": {
      "provenance": []
    },
    "kernelspec": {
      "display_name": "Python 3",
      "name": "python3"
    },
    "language_info": {
      "name": "python"
    }
  },
  "nbformat": 4,
  "nbformat_minor": 0
}
