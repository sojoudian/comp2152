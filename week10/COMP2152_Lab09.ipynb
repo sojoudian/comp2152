{
  "nbformat": 4,
  "nbformat_minor": 0,
  "metadata": {
    "colab": {
      "provenance": []
    },
    "kernelspec": {
      "name": "python3",
      "display_name": "Python 3"
    },
    "language_info": {
      "name": "python"
    }
  },
  "cells": [
    {
      "cell_type": "markdown",
      "source": [
        "# This exercise will help you practice using SQLite database to store and retrieve students and course information:"
      ],
      "metadata": {
        "id": "Py94Xy1Z_ARx"
      }
    },
    {
      "cell_type": "code",
      "source": [
        "# Run the given scripts below to create a new SQLite Database called `school.db`. Alternatively,\n",
        "# you can manually create the database from SQLite GUI, then drag and drop the database to the Files section and connect to it."
      ],
      "metadata": {
        "id": "YL-_fRKU_GAX"
      },
      "execution_count": null,
      "outputs": []
    },
    {
      "cell_type": "code",
      "source": [
        "import sqlite3"
      ],
      "metadata": {
        "id": "GPlbQI9W_gtd"
      },
      "execution_count": 1,
      "outputs": []
    },
    {
      "cell_type": "code",
      "source": [
        "conn = sqlite3.connect('school.db')\n",
        "c = conn.cursor()\n",
        "\n",
        "c.execute('''\n",
        "    CREATE TABLE IF NOT EXISTS students (\n",
        "        id INTEGER PRIMARY KEY,\n",
        "        name TEXT NOT NULL,\n",
        "        age INTEGER NOT NULL,\n",
        "        email TEXT NOT NULL UNIQUE\n",
        "    )\n",
        "''')\n",
        "\n",
        "c.execute('''\n",
        "    CREATE TABLE IF NOT EXISTS courses (\n",
        "        id INTEGER PRIMARY KEY,\n",
        "        name TEXT NOT NULL,\n",
        "        code TEXT NOT NULL UNIQUE,\n",
        "        description TEXT NOT NULL\n",
        "    )\n",
        "''')\n",
        "\n",
        "conn.commit()\n",
        "\n",
        "conn.close()\n"
      ],
      "metadata": {
        "id": "R3jEHINP_mWp"
      },
      "execution_count": 2,
      "outputs": []
    },
    {
      "cell_type": "markdown",
      "source": [
        "## Students - Add/Get/Update/Delete Functions"
      ],
      "metadata": {
        "id": "54TDFsfGC1lS"
      }
    },
    {
      "cell_type": "code",
      "source": [
        "# function to add a new student to the database\n",
        "# function name: add_student()\n",
        "# function params: name, age, email\n",
        "# INSERT statement"
      ],
      "metadata": {
        "id": "m_U4iuux_q8_"
      },
      "execution_count": null,
      "outputs": []
    },
    {
      "cell_type": "code",
      "source": [],
      "metadata": {
        "id": "E9bfy4vR_vda"
      },
      "execution_count": null,
      "outputs": []
    },
    {
      "cell_type": "code",
      "source": [
        "# function to get all students from the database\n",
        "# function name: get_students()\n",
        "# function params: no param needed\n",
        "# SELECT statement\n",
        "# fetchall()"
      ],
      "metadata": {
        "id": "QG8_YQrs_2Or"
      },
      "execution_count": null,
      "outputs": []
    },
    {
      "cell_type": "code",
      "source": [],
      "metadata": {
        "id": "XroCNao2_3-R"
      },
      "execution_count": null,
      "outputs": []
    },
    {
      "cell_type": "code",
      "source": [
        "# function to get student by id\n",
        "# function name: get_student_by_id()\n",
        "# function params: id\n",
        "# SELECT ... WHERE statement\n",
        "# fetchone()"
      ],
      "metadata": {
        "id": "bXffx46ADwXL"
      },
      "execution_count": null,
      "outputs": []
    },
    {
      "cell_type": "code",
      "source": [],
      "metadata": {
        "id": "eUd2pmicDwwx"
      },
      "execution_count": null,
      "outputs": []
    },
    {
      "cell_type": "code",
      "source": [
        "# function to update a student in the database\n",
        "# function name: update_student()\n",
        "# function params: id, name, age, email\n",
        "# UPDATE statement"
      ],
      "metadata": {
        "id": "iuDodizd_79h"
      },
      "execution_count": null,
      "outputs": []
    },
    {
      "cell_type": "code",
      "source": [],
      "metadata": {
        "id": "3WHNhed-_-5g"
      },
      "execution_count": null,
      "outputs": []
    },
    {
      "cell_type": "code",
      "source": [
        "# function to delete a student from the database\n",
        "# function name: delete_student()\n",
        "# function params: id\n",
        "# DELETE statement"
      ],
      "metadata": {
        "id": "r7eZ4jPJACFk"
      },
      "execution_count": null,
      "outputs": []
    }
  ]
}