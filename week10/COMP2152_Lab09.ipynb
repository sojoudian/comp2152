{
  "cells": [
    {
      "cell_type": "markdown",
      "metadata": {
        "id": "Py94Xy1Z_ARx"
      },
      "source": [
        "# This exercise will help you practice using SQLite database to store and retrieve students and course information:"
      ]
    },
    {
      "cell_type": "code",
      "execution_count": null,
      "metadata": {
        "id": "YL-_fRKU_GAX"
      },
      "outputs": [],
      "source": [
        "# Add your name and student ID below:\n",
        "# Maziar Sojoudian 10112131\n",
        "# Run the given scripts below to create a new SQLite Database called `books.db`. Alternatively,\n",
        "# you can manually create the database from SQLite GUI, then drag and drop the database to the Files section and connect to it."
      ]
    },
    {
      "cell_type": "code",
      "execution_count": 4,
      "metadata": {
        "id": "GPlbQI9W_gtd"
      },
      "outputs": [],
      "source": [
        "import sqlite3"
      ]
    },
    {
      "cell_type": "code",
      "execution_count": 5,
      "metadata": {
        "id": "R3jEHINP_mWp"
      },
      "outputs": [],
      "source": [
        "import sqlite3\n",
        "\n",
        "# Connect to the books database (it will be created if it doesn't exist)\n",
        "conn = sqlite3.connect('books.db')\n",
        "c = conn.cursor()\n",
        "\n",
        "# Create a table for books\n",
        "c.execute('''\n",
        "    CREATE TABLE IF NOT EXISTS books (\n",
        "        id INTEGER PRIMARY KEY,\n",
        "        title TEXT NOT NULL,\n",
        "        author_id INTEGER NOT NULL,\n",
        "        isbn TEXT NOT NULL UNIQUE,\n",
        "        publication_year INTEGER NOT NULL,\n",
        "        FOREIGN KEY (author_id) REFERENCES authors(id) ON DELETE CASCADE\n",
        "    )\n",
        "''')\n",
        "\n",
        "# Create a table for authors\n",
        "c.execute('''\n",
        "    CREATE TABLE IF NOT EXISTS authors (\n",
        "        id INTEGER PRIMARY KEY,\n",
        "        name TEXT NOT NULL,\n",
        "        birth_year INTEGER,\n",
        "        nationality TEXT\n",
        "    )\n",
        "''')\n",
        "\n",
        "# Create a table for genres (optional, if you want to track book genres)\n",
        "c.execute('''\n",
        "    CREATE TABLE IF NOT EXISTS genres (\n",
        "        id INTEGER PRIMARY KEY,\n",
        "        name TEXT NOT NULL UNIQUE\n",
        "    )\n",
        "''')\n",
        "\n",
        "# Create a table for book-genre relationships (optional, for many-to-many relationships between books and genres)\n",
        "c.execute('''\n",
        "    CREATE TABLE IF NOT EXISTS book_genres (\n",
        "        book_id INTEGER NOT NULL,\n",
        "        genre_id INTEGER NOT NULL,\n",
        "        PRIMARY KEY (book_id, genre_id),\n",
        "        FOREIGN KEY (book_id) REFERENCES books(id) ON DELETE CASCADE,\n",
        "        FOREIGN KEY (genre_id) REFERENCES genres(id) ON DELETE CASCADE\n",
        "    )\n",
        "''')\n",
        "\n",
        "# Commit the changes and close the connection to the database\n",
        "conn.commit()\n",
        "conn.close()\n",
        "\n"
      ]
    },
    {
      "cell_type": "markdown",
      "metadata": {
        "id": "54TDFsfGC1lS"
      },
      "source": [
        "## Books - Add/Get/Update/Delete Functions"
      ]
    },
    {
      "cell_type": "code",
      "execution_count": null,
      "metadata": {
        "id": "m_U4iuux_q8_"
      },
      "outputs": [],
      "source": [
        "# function to add a new book to the database\n",
        "# function name: add_book()\n",
        "# function params: title, author_id, isbn, publication_year\n",
        "# INSERT statement"
      ]
    },
    {
      "cell_type": "code",
      "execution_count": 7,
      "metadata": {
        "colab": {
          "base_uri": "https://localhost:8080/"
        },
        "id": "E9bfy4vR_vda",
        "outputId": "1b8bd200-0dde-45df-edf1-55297f50886a"
      },
      "outputs": [
        {
          "name": "stdout",
          "output_type": "stream",
          "text": [
            "Book added successfully.\n"
          ]
        }
      ],
      "source": [
        "\n",
        "\n",
        "# Example usage\n",
        "#add_book('Example Book Title', 1, '123-4567890123', 2024)\n"
      ]
    },
    {
      "cell_type": "code",
      "execution_count": null,
      "metadata": {
        "id": "QG8_YQrs_2Or"
      },
      "outputs": [],
      "source": [
        "# function to get all book from the database\n",
        "# function name: get_books()\n",
        "# function params: no param needed\n",
        "# SELECT statement\n",
        "# fetchall()"
      ]
    },
    {
      "cell_type": "code",
      "execution_count": 8,
      "metadata": {
        "colab": {
          "base_uri": "https://localhost:8080/"
        },
        "id": "XroCNao2_3-R",
        "outputId": "324c8be8-81d5-4c5d-8997-7017541e914e"
      },
      "outputs": [
        {
          "name": "stdout",
          "output_type": "stream",
          "text": [
            "(1, 'Example Book Title', 1, '123-4567890123', 2024)\n"
          ]
        }
      ],
      "source": [
        "\n",
        "\n",
        "# Example usage\n",
        "#books = get_books()\n",
        "#for book in books:\n",
        "#    print(book)\n"
      ]
    },
    {
      "cell_type": "code",
      "execution_count": null,
      "metadata": {
        "id": "bXffx46ADwXL"
      },
      "outputs": [],
      "source": [
        "# function to get book by id\n",
        "# function name: get_book_by_id()\n",
        "# function params: id\n",
        "# SELECT ... WHERE statement\n",
        "# fetchone()"
      ]
    },
    {
      "cell_type": "code",
      "execution_count": 15,
      "metadata": {
        "colab": {
          "base_uri": "https://localhost:8080/"
        },
        "id": "eUd2pmicDwwx",
        "outputId": "ad5df2ba-d17e-4c91-8ea9-63c7bb5d7e04"
      },
      "outputs": [
        {
          "name": "stdout",
          "output_type": "stream",
          "text": [
            "(1, 'New Title', 2, '123-4567890123', 2024)\n"
          ]
        }
      ],
      "source": [
        "\n",
        "\n",
        "# Example usage\n",
        "# book_id = 1\n",
        "# book = get_book_by_id(book_id)\n",
        "# if book:\n",
        "#     print(book)\n",
        "# else:\n",
        "#     print(\"No book found with the given ID.\")\n",
        "# "
      ]
    },
    {
      "cell_type": "code",
      "execution_count": null,
      "metadata": {
        "id": "r7eZ4jPJACFk"
      },
      "outputs": [],
      "source": [
        "# function to delete a student from the database\n",
        "# function name: delete_book()\n",
        "# function params: id\n",
        "# DELETE statement"
      ]
    },
    {
      "cell_type": "code",
      "execution_count": 16,
      "metadata": {
        "id": "kQM5lSPx7kOU"
      },
      "outputs": [],
      "source": [
        "import sqlite3\n",
        "\n",
        "def delete_book(book_id):\n",
        "    # Connect to the existing books database\n",
        "    conn = sqlite3.connect('books.db')\n",
        "    c = conn.cursor()\n",
        "\n",
        "    # Prepare the delete statement to remove a book by its ID\n",
        "    delete_sql = 'DELETE FROM books WHERE id = ?'\n",
        "\n",
        "    try:\n",
        "        # Execute the delete statement with the provided book ID\n",
        "        c.execute(delete_sql, (book_id,))\n",
        "\n",
        "        # Commit the changes to the database\n",
        "        conn.commit()\n",
        "\n",
        "        # Check if the delete was successful by checking the rowcount\n",
        "        if c.rowcount > 0:\n",
        "            print(\"Book deleted successfully.\")\n",
        "        else:\n",
        "            print(\"No book found with the given ID.\")\n",
        "    except Exception as e:\n",
        "        # Handle any unexpected errors\n",
        "        print(f\"An error occurred: {e}\")\n",
        "    finally:\n",
        "        # Close the connection to the database\n",
        "        conn.close()\n",
        "\n",
        "# Example usage\n",
        "# delete_book(1)\n"
      ]
    },
    {
      "cell_type": "code",
      "execution_count": null,
      "metadata": {
        "id": "iuDodizd_79h"
      },
      "outputs": [],
      "source": [
        "# function to update a book in the database\n",
        "# function name: update_book()\n",
        "# function params: title, author_id, isbn, publication_year\n",
        "# UPDATE statement"
      ]
    },
    {
      "cell_type": "code",
      "execution_count": 14,
      "metadata": {
        "colab": {
          "base_uri": "https://localhost:8080/"
        },
        "id": "3WHNhed-_-5g",
        "outputId": "edffc781-3a95-42e3-c3ff-e876ece32be3"
      },
      "outputs": [
        {
          "name": "stdout",
          "output_type": "stream",
          "text": [
            "Book updated successfully.\n"
          ]
        }
      ],
      "source": [
        "import sqlite3\n",
        "\n",
        "def update_book(isbn, title, author_id, publication_year):\n",
        "    # Connect to the existing books database\n",
        "    conn = sqlite3.connect('books.db')\n",
        "    c = conn.cursor()\n",
        "\n",
        "    # Prepare the update statement to update book details\n",
        "    update_sql = '''\n",
        "    UPDATE books\n",
        "    SET title = ?, author_id = ?, publication_year = ?\n",
        "    WHERE isbn = ?\n",
        "    '''\n",
        "\n",
        "    try:\n",
        "        # Execute the update statement with the provided details\n",
        "        c.execute(update_sql, (title, author_id, publication_year, isbn))\n",
        "\n",
        "        # Commit the changes to the database\n",
        "        conn.commit()\n",
        "\n",
        "        # Check if the update was successful by checking the rowcount\n",
        "        if c.rowcount > 0:\n",
        "            print(\"Book updated successfully.\")\n",
        "        else:\n",
        "            print(\"No book found with the given ISBN.\")\n",
        "    except sqlite3.IntegrityError as e:\n",
        "        # Handle errors such as violating the uniqueness of ISBN or foreign key constraints\n",
        "        print(f\"Error updating the book: {e}\")\n",
        "    except Exception as e:\n",
        "        # Handle any other unexpected errors\n",
        "        print(f\"An unexpected error occurred: {e}\")\n",
        "    finally:\n",
        "        # Close the connection to the database\n",
        "        conn.close()\n",
        "\n",
        "#Example usage\n",
        "update_book('123-4567890123', 'New Title', 2, 2024)\n"
      ]
    }
  ],
  "metadata": {
    "colab": {
      "provenance": []
    },
    "kernelspec": {
      "display_name": "Python 3",
      "name": "python3"
    },
    "language_info": {
      "name": "python"
    }
  },
  "nbformat": 4,
  "nbformat_minor": 0
}
