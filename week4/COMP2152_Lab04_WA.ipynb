{
  "nbformat": 4,
  "nbformat_minor": 0,
  "metadata": {
    "colab": {
      "provenance": []
    },
    "kernelspec": {
      "name": "python3",
      "display_name": "Python 3"
    },
    "language_info": {
      "name": "python"
    }
  },
  "cells": [
    {
      "cell_type": "markdown",
      "source": [
        "# Loop & If-else Statement\n"
      ],
      "metadata": {
        "id": "7_YgQPaICKgO"
      }
    },
    {
      "cell_type": "markdown",
      "source": [
        "In the previous exercise, we have practice using input() to prompt for users input for employee information and allow users to enter and create one single employee. In this lab, we will practice the following:\n",
        "1.   Convert the \"print employees\" and \"create employees\" script to function for reuse purposes\n",
        "2.   Use while loop to allow users to enter and create as many employees as needed until users choose to finish the process\n",
        "3. Use if-else statement to validate users input\n"
      ],
      "metadata": {
        "id": "1_GuE3rpCe5o"
      }
    },
    {
      "cell_type": "code",
      "source": [
        "# initiate an empty employees list"
      ],
      "metadata": {
        "id": "guU7nM9hCRAM"
      },
      "execution_count": 66,
      "outputs": []
    },
    {
      "cell_type": "code",
      "source": [
        "employees = []"
      ],
      "metadata": {
        "id": "f3VfxN3kFG5g"
      },
      "execution_count": 67,
      "outputs": []
    },
    {
      "cell_type": "code",
      "source": [
        "# add some employees to the list"
      ],
      "metadata": {
        "id": "dTxcJNDIG7ov"
      },
      "execution_count": 68,
      "outputs": []
    },
    {
      "cell_type": "code",
      "source": [
        "employees.append([1, \"John\", \"full-time\", 40, 15, \"ON\", 0])\n",
        "employees.append([2, \"Jane\", \"part-time\", 20, 12, \"ON\", 0])"
      ],
      "metadata": {
        "id": "8VOTXd0iHAxx"
      },
      "execution_count": 69,
      "outputs": []
    },
    {
      "cell_type": "code",
      "source": [
        "# Please refer to the previous exercise and make a function named print_employees() to print the list of employees along with the headers. Expected outputs:\n",
        "# Employee ID, Employee Name, Employee Type, Hours Worked, Hourly Rate, Location, Salary\n",
        "# 1, John, full-time, 45, 15, ON, 1350\n",
        "# 2, Jane, part-time, 20, 12, ON, 240"
      ],
      "metadata": {
        "id": "iSuAY3EnGcsl"
      },
      "execution_count": 70,
      "outputs": []
    },
    {
      "cell_type": "code",
      "source": [
        "def print_employees():\n",
        "  print(\"Employee ID, Employee Name, Employee Type, Hours Worked, Hourly Rate, Location, Salary\")\n",
        "  for employee in employees:\n",
        "    print(str(employee[0]) + \", \" + employee[1] + \", \" + employee[2] + \", \" + str(employee[3])\n",
        "              + \", \" + str(employee[4]) + \", \" + employee[5]+ \", \" + str(employee[6]))"
      ],
      "metadata": {
        "id": "FAbLFZ3pGvhI"
      },
      "execution_count": 71,
      "outputs": []
    },
    {
      "cell_type": "code",
      "source": [
        "# Call the print_employees() function to view the list of employees"
      ],
      "metadata": {
        "id": "PAGZXO_LHMt0"
      },
      "execution_count": 72,
      "outputs": []
    },
    {
      "cell_type": "code",
      "source": [
        "print_employees()"
      ],
      "metadata": {
        "colab": {
          "base_uri": "https://localhost:8080/"
        },
        "id": "EaAm7HiTHSAi",
        "outputId": "738595f0-3425-4fb5-dc69-7c711bdacea2"
      },
      "execution_count": 73,
      "outputs": [
        {
          "output_type": "stream",
          "name": "stdout",
          "text": [
            "Employee ID, Employee Name, Employee Type, Hours Worked, Hourly Rate, Location, Salary\n",
            "1, John, full-time, 40, 15, ON, 0\n",
            "2, Jane, part-time, 20, 12, ON, 0\n"
          ]
        }
      ]
    },
    {
      "cell_type": "code",
      "source": [
        "# Please refer to the previous exercise and make a function named create_single_employee to ask for users input for employee_id, employee_name, employee_type, employee_hours_worked, employee_hourly_rate, employee_location. Assigning 0 to employee_salary.\n",
        "# Then using append method to add the employee to employees list. "
      ],
      "metadata": {
        "id": "ohYAq64eCPB6"
      },
      "execution_count": 74,
      "outputs": []
    },
    {
      "cell_type": "code",
      "source": [
        "def create_single_employee():\n",
        "  employee_id = int(input(\"Enter Employee ID: \"))\n",
        "  employee_name = input(\"Enter Employee Name: \")\n",
        "  employee_type = input(\"Enter Employee Type: \")\n",
        "  employee_hours_worked = int(input(\"Enter Employee Total Hours Worked: \"))\n",
        "  employee_hourly_rate = int(input(\"Enter Employee Hourly Rate: \"))\n",
        "  employee_location = input(\"Enter Employee Location: \")\n",
        "  employees.append([employee_id, employee_name, employee_type, employee_hours_worked, employee_hourly_rate, employee_location, 0])\n",
        "  print(\"Employee with ID \" + str(employee_id) + \" is succefully added.\")"
      ],
      "metadata": {
        "id": "GK5NdlSdCQBa"
      },
      "execution_count": 75,
      "outputs": []
    },
    {
      "cell_type": "code",
      "source": [
        "# make a function call to create_single_employee"
      ],
      "metadata": {
        "id": "tLMe4W01FAMi"
      },
      "execution_count": 76,
      "outputs": []
    },
    {
      "cell_type": "code",
      "source": [
        "create_single_employee()"
      ],
      "metadata": {
        "colab": {
          "base_uri": "https://localhost:8080/"
        },
        "id": "y5ngoCHZFEhn",
        "outputId": "7ac0b192-94e7-43f6-e035-9c17eba2647a"
      },
      "execution_count": 77,
      "outputs": [
        {
          "output_type": "stream",
          "name": "stdout",
          "text": [
            "Enter Employee ID: 3\n",
            "Enter Employee Name: Rob\n",
            "Enter Employee Type: part-time\n",
            "Enter Employee Total Hours Worked: 35\n",
            "Enter Employee Hourly Rate: 15\n",
            "Enter Employee Location: AB\n",
            "Employee with ID 3 is succefully added.\n"
          ]
        }
      ]
    },
    {
      "cell_type": "code",
      "source": [
        "# make a function call to print_employees() to see the newly added employee"
      ],
      "metadata": {
        "id": "JvUDjs8YGLtU"
      },
      "execution_count": 78,
      "outputs": []
    },
    {
      "cell_type": "code",
      "source": [
        "print_employees()"
      ],
      "metadata": {
        "colab": {
          "base_uri": "https://localhost:8080/"
        },
        "id": "VUMubP3mILZv",
        "outputId": "f9a917ab-ecbc-4119-bddc-444a7a70f3a1"
      },
      "execution_count": 79,
      "outputs": [
        {
          "output_type": "stream",
          "name": "stdout",
          "text": [
            "Employee ID, Employee Name, Employee Type, Hours Worked, Hourly Rate, Location, Salary\n",
            "1, John, full-time, 40, 15, ON, 0\n",
            "2, Jane, part-time, 20, 12, ON, 0\n",
            "3, Rob, part-time, 35, 15, AB, 0\n"
          ]
        }
      ]
    },
    {
      "cell_type": "code",
      "source": [
        "# now create create_employees function, which is a modified version of create_single_employee, with the addition of while loop to allow users to continue input employee information until they want to stop"
      ],
      "metadata": {
        "id": "458dxI6JD8Cl"
      },
      "execution_count": 80,
      "outputs": []
    },
    {
      "cell_type": "code",
      "source": [
        "def create_employees():\n",
        "  is_continue = True\n",
        "  while is_continue:\n",
        "    # getting input from users\n",
        "    employee_id = int(input(\"Enter Employee ID: \"))\n",
        "    employee_name = input(\"Enter Employee Name: \")\n",
        "    employee_type = input(\"Enter Employee Type: \")\n",
        "    employee_hours_worked = int(input(\"Enter Employee Total Hours Worked: \"))\n",
        "    employee_hourly_rate = int(input(\"Enter Employee Hourly Rate: \"))\n",
        "    employee_location = input(\"Enter Employee Location: \")\n",
        "\n",
        "    # insert employee into employee array\n",
        "    employees.append([employee_id, employee_name, employee_type, employee_hours_worked, employee_hourly_rate, employee_location, 0])\n",
        "    print(\"Employee with ID \" + str(employee_id) + \" is succefully added.\")\n",
        "\n",
        "    # asking users to continue adding another employee or to quit\n",
        "    user_input = input(\"Do you wish to add another employees (Y/N): \")[0].upper()\n",
        "      # if users do not enter \"Y\", change the value to is_continue to False to exit the loop\n",
        "    if user_input != \"Y\":\n",
        "      is_continue = False"
      ],
      "metadata": {
        "id": "ExHWwzQOCQ5C"
      },
      "execution_count": 81,
      "outputs": []
    },
    {
      "cell_type": "code",
      "source": [
        "# make a function call to create_employees() to start adding employees"
      ],
      "metadata": {
        "id": "XepdXWP7CQxW"
      },
      "execution_count": 82,
      "outputs": []
    },
    {
      "cell_type": "code",
      "source": [
        "create_employees()"
      ],
      "metadata": {
        "colab": {
          "base_uri": "https://localhost:8080/"
        },
        "id": "20uogM30CQi9",
        "outputId": "a395852a-7f5c-4f36-b982-d9466ce14dc1"
      },
      "execution_count": 86,
      "outputs": [
        {
          "name": "stdout",
          "output_type": "stream",
          "text": [
            "Enter Employee ID: 4\n",
            "Enter Employee Name: Anna\n",
            "Enter Employee Type: full-time\n",
            "Enter Employee Total Hours Worked: 40\n",
            "Enter Employee Hourly Rate: 15\n",
            "Enter Employee Location: YT\n",
            "Employee with ID 4 is succefully added.\n",
            "Do you wish to add another employees (Y/N): y\n",
            "Enter Employee ID: 5\n",
            "Enter Employee Name: Jack\n",
            "Enter Employee Type: part-time\n",
            "Enter Employee Total Hours Worked: 18\n",
            "Enter Employee Hourly Rate: 12\n",
            "Enter Employee Location: ON\n",
            "Employee with ID 5 is succefully added.\n",
            "Do you wish to add another employees (Y/N): n\n"
          ]
        }
      ]
    },
    {
      "cell_type": "code",
      "source": [
        "# make a function call to print_employees() to see the updated employees list"
      ],
      "metadata": {
        "id": "7vqsT4MtW_0k"
      },
      "execution_count": 87,
      "outputs": []
    },
    {
      "cell_type": "code",
      "source": [
        "print_employees()"
      ],
      "metadata": {
        "colab": {
          "base_uri": "https://localhost:8080/"
        },
        "id": "_s6CsXcmXHNv",
        "outputId": "97bd5aa5-5c68-467d-ecdf-2076a110fd4c"
      },
      "execution_count": 88,
      "outputs": [
        {
          "output_type": "stream",
          "name": "stdout",
          "text": [
            "Employee ID, Employee Name, Employee Type, Hours Worked, Hourly Rate, Location, Salary\n",
            "1, John, full-time, 40, 15, ON, 0\n",
            "2, Jane, part-time, 20, 12, ON, 0\n",
            "3, Rob, part-time, 35, 15, AB, 0\n",
            "4, Anna, full-time, 40, 15, ON, 0\n",
            "4, Anna, full-time, 40, 15, YT, 0\n",
            "5, Jack, part-time, 18, 12, ON, 0\n"
          ]
        }
      ]
    },
    {
      "cell_type": "code",
      "source": [
        "# let's practice using a while loop, an if statement, and input() function to repeatedly prompt the user for input until they provide a non-empty value"
      ],
      "metadata": {
        "id": "8MNFu8AZZFKL"
      },
      "execution_count": 89,
      "outputs": []
    },
    {
      "cell_type": "code",
      "source": [
        "while True:\n",
        "    user_input = input(\"Enter some value: \")\n",
        "    if user_input:\n",
        "        break\n",
        "    print(\"Input can not be empty. Please try again.\")"
      ],
      "metadata": {
        "colab": {
          "base_uri": "https://localhost:8080/"
        },
        "id": "CyR06g0TZOzG",
        "outputId": "571d3ddc-f65c-4d20-fddf-67837f3352ad"
      },
      "execution_count": 90,
      "outputs": [
        {
          "name": "stdout",
          "output_type": "stream",
          "text": [
            "Enter some value: hello\n"
          ]
        }
      ]
    },
    {
      "cell_type": "code",
      "source": [
        "# convert the above to a helper function called get_valid_input(prompt_message) that takes a prompt message and returns a non-empty user input\n",
        "def get_valid_input(prompt_message):\n",
        "    while True:\n",
        "        user_input = input(prompt_message)\n",
        "        if user_input:\n",
        "            return user_input\n",
        "        print(\"Input can not be empty. Please try again.\")\n",
        "\n",
        "# user_input = get_valid_input(\"Enter a value: \")\n",
        "# print(\"Valid input received:\", user_input)"
      ],
      "metadata": {
        "id": "Oy0a3VKNZjjx"
      },
      "execution_count": 91,
      "outputs": []
    },
    {
      "cell_type": "code",
      "source": [
        "# Now let adding some input validation to the create employees process and try to use the helper function above to check for empty value for each field.\n",
        "# Copy the content of create_employees() function and create a new function named create_employee_validation(). Then try to apply the get_valid_input() function for each input field to prevent users from enter empty value."
      ],
      "metadata": {
        "id": "iHSa_9N_XOfI"
      },
      "execution_count": 92,
      "outputs": []
    },
    {
      "cell_type": "code",
      "source": [
        "def create_employees_validation():\n",
        "  is_continue = True\n",
        "  while is_continue:\n",
        "    # getting input from users, apply the get_valid_input method \n",
        "    employee_id = get_valid_input(\"Enter Employee ID: \")\n",
        "    employee_id = int(employee_id) # don't forget to convert employee_id to int\n",
        "    employee_name = get_valid_input(\"Enter Employee Name: \")\n",
        "    employee_type = get_valid_input(\"Enter Employee Type: \")\n",
        "    employee_hours_worked = int(get_valid_input(\"Enter Employee Total Hours Worked: \")) # get the valid input return from the get_valid_input() function and convert the value to int on the same line.\n",
        "    employee_hourly_rate = int(get_valid_input(\"Enter Employee Hourly Rate: \")) # get the valid input return from the get_valid_input() function and convert the value to int on the same line.\n",
        "    employee_location = get_valid_input(\"Enter Employee Location: \")\n",
        "\n",
        "    # insert employee into employee array\n",
        "    employees.append([employee_id, employee_name, employee_type, employee_hours_worked, employee_hourly_rate, employee_location, 0])\n",
        "    print(\"Employee with ID \" + str(employee_id) + \" is succefully added.\")\n",
        "\n",
        "    # asking users to continue adding another employee or to quit\n",
        "    user_input = input(\"Do you wish to add another employees (Y/N): \")[0].upper()\n",
        "      # if users do not enter \"Y\", change the value to is_continue to False to exit the loop\n",
        "    if user_input != \"Y\":\n",
        "      is_continue = False"
      ],
      "metadata": {
        "id": "JOO2mHPQXxfH"
      },
      "execution_count": 93,
      "outputs": []
    },
    {
      "cell_type": "code",
      "source": [
        "# make a function call to create_employees_validation() to start adding employees"
      ],
      "metadata": {
        "id": "eykNJ39gbV6l"
      },
      "execution_count": 94,
      "outputs": []
    },
    {
      "cell_type": "code",
      "source": [
        "create_employees_validation()"
      ],
      "metadata": {
        "colab": {
          "base_uri": "https://localhost:8080/"
        },
        "id": "dKgsHpvSb-K5",
        "outputId": "efa9fa7d-008a-4e20-a506-4d0223ad13b4"
      },
      "execution_count": 95,
      "outputs": [
        {
          "name": "stdout",
          "output_type": "stream",
          "text": [
            "Enter Employee ID: 6\n",
            "Enter Employee Name: Mary\n",
            "Enter Employee Type: full-time\n",
            "Enter Employee Total Hours Worked: 38\n",
            "Enter Employee Hourly Rate: 16\n",
            "Enter Employee Location: ON\n",
            "Employee with ID 6 is succefully added.\n",
            "Do you wish to add another employees (Y/N): n\n"
          ]
        }
      ]
    },
    {
      "cell_type": "code",
      "source": [
        "# make a function call to print_employees() to see the updated employees list"
      ],
      "metadata": {
        "id": "28FRPI7DbMwG"
      },
      "execution_count": null,
      "outputs": []
    },
    {
      "cell_type": "code",
      "source": [
        "print_employees()"
      ],
      "metadata": {
        "colab": {
          "base_uri": "https://localhost:8080/"
        },
        "id": "9DbZ_gv0bNRH",
        "outputId": "220b635e-888e-49ec-d15a-1d5a59612011"
      },
      "execution_count": 96,
      "outputs": [
        {
          "output_type": "stream",
          "name": "stdout",
          "text": [
            "Employee ID, Employee Name, Employee Type, Hours Worked, Hourly Rate, Location, Salary\n",
            "1, John, full-time, 40, 15, ON, 0\n",
            "2, Jane, part-time, 20, 12, ON, 0\n",
            "3, Rob, part-time, 35, 15, AB, 0\n",
            "4, Anna, full-time, 40, 15, ON, 0\n",
            "4, Anna, full-time, 40, 15, YT, 0\n",
            "5, Jack, part-time, 18, 12, ON, 0\n",
            "6, Mary, full-time, 38, 16, ON, 0\n"
          ]
        }
      ]
    },
    {
      "cell_type": "code",
      "source": [
        "# Practice, now create a helper function called get_valid_type(prompt_message, types) to validate values against a list of predefined values. The function should take two parameters: prompt_message and types. Types is a list to store possible values that users are allowed to enter.\n",
        "def get_valid_type(prompt_message, types):\n",
        "  while True:\n",
        "    user_input = input(prompt_message)\n",
        "    if user_input and user_input in types:\n",
        "      return user_input\n",
        "    print(\"Please enter one of the following value: \" + ', '.join(types))"
      ],
      "metadata": {
        "id": "MNZS3_ryXfho"
      },
      "execution_count": 97,
      "outputs": []
    },
    {
      "cell_type": "code",
      "source": [
        "# Update create_employees_validation() function to apply the get_valid_type for employee_type"
      ],
      "metadata": {
        "id": "vBnFA6zQpl9B"
      },
      "execution_count": 98,
      "outputs": []
    },
    {
      "cell_type": "code",
      "source": [
        "def create_employees_validation():\n",
        "  is_continue = True\n",
        "  while is_continue:\n",
        "    employee_id = get_valid_input(\"Enter Employee ID: \")\n",
        "    employee_id = int(employee_id) \n",
        "    employee_name = get_valid_input(\"Enter Employee Name: \")\n",
        "    employee_type = get_valid_type(\"Enter Employee Type: \", [\"full-time\", \"part-time\"]) # call get_valid_type() function, passing the prompt message and the list of values.\n",
        "    employee_hours_worked = int(get_valid_input(\"Enter Employee Total Hours Worked: \"))\n",
        "    employee_hourly_rate = int(get_valid_input(\"Enter Employee Hourly Rate: \"))\n",
        "    employee_location = get_valid_input(\"Enter Employee Location: \")\n",
        "\n",
        "    employees.append([employee_id, employee_name, employee_type, employee_hours_worked, employee_hourly_rate, employee_location, 0])\n",
        "    print(\"Employee with ID \" + str(employee_id) + \" is succefully added.\")\n",
        "\n",
        "    user_input = input(\"Do you wish to add another employees (Y/N): \")[0].upper()\n",
        "    if user_input != \"Y\":\n",
        "      is_continue = False"
      ],
      "metadata": {
        "id": "mGA-wBGinMqN"
      },
      "execution_count": 99,
      "outputs": []
    },
    {
      "cell_type": "code",
      "source": [
        "# make a function call to create_employees_validation() and check if the new validation rule of employee_type."
      ],
      "metadata": {
        "id": "QwZmC7D2oBrj"
      },
      "execution_count": 100,
      "outputs": []
    },
    {
      "cell_type": "code",
      "source": [
        "create_employees_validation()"
      ],
      "metadata": {
        "colab": {
          "base_uri": "https://localhost:8080/"
        },
        "id": "xquaTe6ynzhn",
        "outputId": "0194bc46-c418-4bf8-e76b-e3ec495991ec"
      },
      "execution_count": 101,
      "outputs": [
        {
          "name": "stdout",
          "output_type": "stream",
          "text": [
            "Enter Employee ID: 7\n",
            "Enter Employee Name: Will\n",
            "Enter Employee Type: part-time\n",
            "Enter Employee Total Hours Worked: 20\n",
            "Enter Employee Hourly Rate: 20\n",
            "Enter Employee Location: ON\n",
            "Employee with ID 7 is succefully added.\n",
            "Do you wish to add another employees (Y/N): n\n"
          ]
        }
      ]
    },
    {
      "cell_type": "code",
      "source": [
        "# More practice, now create a helper function named get_valid_number() to validate integer input such as employee_id, employee_hours_worked, and employee_hourly_rate."
      ],
      "metadata": {
        "id": "Ja4EwGw5oUmS"
      },
      "execution_count": 102,
      "outputs": []
    },
    {
      "cell_type": "code",
      "source": [
        "def get_valid_number(prompt_message):\n",
        "  while True:\n",
        "    user_input = input(prompt_message)\n",
        "    if user_input and user_input.isnumeric():\n",
        "      return int(user_input) # return integer\n",
        "    print(\"Please enter a number: \")"
      ],
      "metadata": {
        "id": "GyXyTlk6oUSa"
      },
      "execution_count": 103,
      "outputs": []
    },
    {
      "cell_type": "code",
      "source": [
        "# Update create_employees_validation() function one more time to apply the get_valid_number to employee_id, employee_hours_worked, and employee_hourly_rate."
      ],
      "metadata": {
        "id": "8swnPDappIMo"
      },
      "execution_count": 104,
      "outputs": []
    },
    {
      "cell_type": "code",
      "source": [
        "def create_employees_validation():\n",
        "  is_continue = True\n",
        "  while is_continue:\n",
        "    employee_id = get_valid_number(\"Enter Employee ID: \") # update to get_valid_number()\n",
        "    # employee_id = int(employee_id) # no longer need as get_valid_number returns integer.\n",
        "    employee_name = get_valid_input(\"Enter Employee Name: \")\n",
        "    employee_type = get_valid_type(\"Enter Employee Type: \", [\"full-time\", \"part-time\"])\n",
        "    employee_hours_worked = get_valid_number(\"Enter Employee Total Hours Worked: \") # update to get_valid_number()\n",
        "    employee_hourly_rate = get_valid_number(\"Enter Employee Hourly Rate: \") # update to get_valid_number()\n",
        "    employee_location = get_valid_input(\"Enter Employee Location: \")\n",
        "\n",
        "    employees.append([employee_id, employee_name, employee_type, employee_hours_worked, employee_hourly_rate, employee_location, 0])\n",
        "    print(\"Employee with ID \" + str(employee_id) + \" is succefully added.\")\n",
        "\n",
        "    user_input = input(\"Do you wish to add another employees (Y/N): \")[0].upper()\n",
        "    if user_input != \"Y\":\n",
        "      is_continue = False\n",
        "      print()\n",
        "      print_employees()"
      ],
      "metadata": {
        "id": "OEhoJI5MpIEO"
      },
      "execution_count": 105,
      "outputs": []
    },
    {
      "cell_type": "code",
      "source": [
        "# make a function call to create_employees_validation() and check if the new validation rule apply to employee_id, employee_hours_worked, and employee_hourly_rate"
      ],
      "metadata": {
        "id": "RnovPGsLqji_"
      },
      "execution_count": 106,
      "outputs": []
    },
    {
      "cell_type": "code",
      "source": [
        "create_employees_validation()"
      ],
      "metadata": {
        "colab": {
          "base_uri": "https://localhost:8080/"
        },
        "id": "pZkNMgivqtPa",
        "outputId": "7e4b900f-1b51-4420-dc3a-bccd71ed1ccf"
      },
      "execution_count": 108,
      "outputs": [
        {
          "output_type": "stream",
          "name": "stdout",
          "text": [
            "Enter Employee ID: a\n",
            "Please enter a number: \n",
            "Enter Employee ID: 8\n",
            "Enter Employee Name: Kelly\n",
            "Enter Employee Type: full-time\n",
            "Enter Employee Total Hours Worked: 45\n",
            "Enter Employee Hourly Rate: 20\n",
            "Enter Employee Location: ON\n",
            "Employee with ID 8 is succefully added.\n",
            "Do you wish to add another employees (Y/N): n\n",
            "\n",
            "Employee ID, Employee Name, Employee Type, Hours Worked, Hourly Rate, Location, Salary\n",
            "1, John, full-time, 40, 15, ON, 0\n",
            "2, Jane, part-time, 20, 12, ON, 0\n",
            "3, Rob, part-time, 35, 15, AB, 0\n",
            "4, Anna, full-time, 40, 15, ON, 0\n",
            "4, Anna, full-time, 40, 15, YT, 0\n",
            "5, Jack, part-time, 18, 12, ON, 0\n",
            "6, Mary, full-time, 38, 16, ON, 0\n",
            "7, Will, part-time, 20, 20, ON, 0\n",
            "8, Kelly, full-time, 45, 20, ON, 0\n"
          ]
        }
      ]
    },
    {
      "cell_type": "markdown",
      "source": [],
      "metadata": {
        "id": "G62epL1cnMTI"
      }
    },
    {
      "cell_type": "markdown",
      "source": [
        "## List Comprehension"
      ],
      "metadata": {
        "id": "6DfkFsv8CRXg"
      }
    },
    {
      "cell_type": "code",
      "source": [
        "# Add a dictionary to look up and display employee location\n",
        "provinces = {\n",
        "  \"AB\": \"Alberta\", \n",
        "  \"BC\": \"British Columbia\", \n",
        "  \"MB\": \"Manitoba\", \n",
        "  \"NB\": \"New Brunswick\",\n",
        "  \"NL\": \"Newfoundland and Labrador\", \n",
        "  \"NS\": \"Nova Scotia\", \n",
        "  \"NT\": \"Northwest Territories\",\n",
        "  \"NU\": \"Nunavut\", \n",
        "  \"ON\": \"Ontario\", \n",
        "  \"PE\": \"Prince Edward Island\", \n",
        "  \"QC\": \"Quebec\",\n",
        "  \"SK\": \"Saskatchewan\", \n",
        "  \"YT\": \"Yukon\"\n",
        "}"
      ],
      "metadata": {
        "id": "KKrpSrhQCY5z"
      },
      "execution_count": 115,
      "outputs": []
    },
    {
      "cell_type": "code",
      "source": [
        "# Use list comprehension to extract the keys from the dictionary\n",
        "locations = [k for k in provinces.keys()]"
      ],
      "metadata": {
        "id": "cM7hKk8mrmG1"
      },
      "execution_count": 109,
      "outputs": []
    },
    {
      "cell_type": "code",
      "source": [
        "# Update create_employees_validation() function to apply the get_valid_type for employee_location using the dictionary locations generated above. "
      ],
      "metadata": {
        "id": "GrUEr4v5sOUe"
      },
      "execution_count": 110,
      "outputs": []
    },
    {
      "cell_type": "code",
      "source": [
        "def create_employees_validation():\n",
        "  is_continue = True\n",
        "  while is_continue:\n",
        "    employee_id = get_valid_number(\"Enter Employee ID: \") \n",
        "    employee_name = get_valid_input(\"Enter Employee Name: \")\n",
        "    employee_type = get_valid_type(\"Enter Employee Type: \", [\"full-time\", \"part-time\"])\n",
        "    employee_hours_worked = get_valid_number(\"Enter Employee Total Hours Worked: \")\n",
        "    employee_hourly_rate = get_valid_number(\"Enter Employee Hourly Rate: \")\n",
        "    employee_location = get_valid_type(\"Enter Employee Location: \", locations)\n",
        "\n",
        "    employees.append([employee_id, employee_name, employee_type, employee_hours_worked, employee_hourly_rate, employee_location, 0])\n",
        "    print(\"Employee with ID \" + str(employee_id) + \" is succefully added.\")\n",
        "\n",
        "    user_input = input(\"Do you wish to add another employees (Y/N): \")[0].upper()\n",
        "    if user_input != \"Y\":\n",
        "      is_continue = False\n",
        "      print()\n",
        "      print_employees()"
      ],
      "metadata": {
        "id": "myJpppCLsgVx"
      },
      "execution_count": 111,
      "outputs": []
    },
    {
      "cell_type": "code",
      "source": [
        "# make a function call to create_employees_validation() and validate the new rule apply to employee_location"
      ],
      "metadata": {
        "id": "uZBEs_lbsgNx"
      },
      "execution_count": 112,
      "outputs": []
    },
    {
      "cell_type": "code",
      "source": [
        "create_employees_validation()"
      ],
      "metadata": {
        "colab": {
          "base_uri": "https://localhost:8080/"
        },
        "id": "ZGkiq6-hszC_",
        "outputId": "476dcee5-1713-4c50-b1ec-1fc4db00d1f8"
      },
      "execution_count": 114,
      "outputs": [
        {
          "output_type": "stream",
          "name": "stdout",
          "text": [
            "Enter Employee ID: 9\n",
            "Enter Employee Name: Reza\n",
            "Enter Employee Type: part-time\n",
            "Enter Employee Total Hours Worked: 24\n",
            "Enter Employee Hourly Rate: 20\n",
            "Enter Employee Location: aa\n",
            "Please enter one of the following value: AB, BC, MB, NB, NL, NS, NT, NU, ON, PE, QC, SK, YT\n",
            "Enter Employee Location: OB\n",
            "Please enter one of the following value: AB, BC, MB, NB, NL, NS, NT, NU, ON, PE, QC, SK, YT\n",
            "Enter Employee Location: ON\n",
            "Employee with ID 9 is succefully added.\n",
            "Do you wish to add another employees (Y/N): n\n",
            "\n",
            "Employee ID, Employee Name, Employee Type, Hours Worked, Hourly Rate, Location, Salary\n",
            "1, John, full-time, 40, 15, ON, 0\n",
            "2, Jane, part-time, 20, 12, ON, 0\n",
            "3, Rob, part-time, 35, 15, AB, 0\n",
            "4, Anna, full-time, 40, 15, ON, 0\n",
            "4, Anna, full-time, 40, 15, YT, 0\n",
            "5, Jack, part-time, 18, 12, ON, 0\n",
            "6, Mary, full-time, 38, 16, ON, 0\n",
            "7, Will, part-time, 20, 20, ON, 0\n",
            "8, Kelly, full-time, 45, 20, ON, 0\n",
            "9, Reza, full-time, 40, 20, ON, 0\n",
            "9, Reza, part-time, 24, 20, ON, 0\n"
          ]
        }
      ]
    }
  ]
}